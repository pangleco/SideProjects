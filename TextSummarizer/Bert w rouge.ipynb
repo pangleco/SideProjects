{
 "cells": [
  {
   "cell_type": "markdown",
   "metadata": {
    "state": "normal"
   },
   "source": [
    "# Bert with Rouge Evaluation"
   ]
  },
  {
   "cell_type": "markdown",
   "metadata": {
    "state": "normal"
   },
   "source": [
    "## Note: This is only one model we tried. Additional models are in the other notebooks that were submitted for Project Step 6."
   ]
  },
  {
   "cell_type": "markdown",
   "metadata": {
    "state": "normal"
   },
   "source": [
    "Bert is an extractive text summarization algorithm that assigns scores to each sentence and evaluates their overall importance. The most important sentences become part of the summary.\n",
    "\n",
    "Sources:\n",
    "https://analyticsindiamag.com/hands-on-guide-to-extractive-text-summarization-with-bertsum/\n",
    "\n",
    "https://pypi.org/project/rouge/#description\n",
    "\n",
    "https://stats.stackexchange.com/questions/301626/interpreting-rouge-scores\n",
    "\n",
    "https://www.researchgate.net/publication/220106310_Evaluation_Measures_for_Text_Summarization"
   ]
  },
  {
   "cell_type": "markdown",
   "metadata": {
    "state": "normal"
   },
   "source": [
    "### Installing the libraries"
   ]
  },
  {
   "cell_type": "code",
   "execution_count": 1,
   "metadata": {
    "state": "normal"
   },
   "outputs": [
    {
     "name": "stderr",
     "output_type": "stream",
     "text": [
      "[nltk_data] Downloading package stopwords to /home/jovyan/nltk_data...\n",
      "[nltk_data]   Unzipping corpora/stopwords.zip.\n"
     ]
    },
    {
     "ename": "ModuleNotFoundError",
     "evalue": "No module named 'summarizer'",
     "output_type": "error",
     "traceback": [
      "\u001b[0;31m---------------------------------------------------------------------------\u001b[0m",
      "\u001b[0;31mModuleNotFoundError\u001b[0m                       Traceback (most recent call last)",
      "\u001b[0;32m<ipython-input-1-729c25c88283>\u001b[0m in \u001b[0;36m<module>\u001b[0;34m\u001b[0m\n\u001b[1;32m      3\u001b[0m \u001b[0mnltk\u001b[0m\u001b[0;34m.\u001b[0m\u001b[0mdownload\u001b[0m\u001b[0;34m(\u001b[0m\u001b[0;34m'stopwords'\u001b[0m\u001b[0;34m)\u001b[0m\u001b[0;34m\u001b[0m\u001b[0;34m\u001b[0m\u001b[0m\n\u001b[1;32m      4\u001b[0m \u001b[0;32mfrom\u001b[0m \u001b[0mnltk\u001b[0m\u001b[0;34m.\u001b[0m\u001b[0mcorpus\u001b[0m \u001b[0;32mimport\u001b[0m \u001b[0mstopwords\u001b[0m\u001b[0;34m\u001b[0m\u001b[0;34m\u001b[0m\u001b[0m\n\u001b[0;32m----> 5\u001b[0;31m \u001b[0;32mfrom\u001b[0m \u001b[0msummarizer\u001b[0m \u001b[0;32mimport\u001b[0m \u001b[0mSummarizer\u001b[0m\u001b[0;34m\u001b[0m\u001b[0;34m\u001b[0m\u001b[0m\n\u001b[0m\u001b[1;32m      6\u001b[0m \u001b[0;32mfrom\u001b[0m \u001b[0mrouge\u001b[0m \u001b[0;32mimport\u001b[0m \u001b[0mRouge\u001b[0m\u001b[0;34m\u001b[0m\u001b[0;34m\u001b[0m\u001b[0m\n\u001b[1;32m      7\u001b[0m \u001b[0;34m\u001b[0m\u001b[0m\n",
      "\u001b[0;31mModuleNotFoundError\u001b[0m: No module named 'summarizer'"
     ]
    }
   ],
   "source": [
    "import nltk\n",
    "import pandas as pd\n",
    "nltk.download('stopwords')\n",
    "from nltk.corpus import stopwords\n",
    "from summarizer import Summarizer\n",
    "from rouge import Rouge \n",
    "\n",
    "from sklearn.linear_model import LinearRegression\n",
    "from sklearn.model_selection import learning_curve\n",
    "\n",
    "import matplotlib.pyplot as plt\n",
    "from nltk.translate.bleu_score import sentence_bleu"
   ]
  },
  {
   "cell_type": "code",
   "execution_count": null,
   "metadata": {
    "scrolled": true,
    "state": "normal"
   },
   "outputs": [],
   "source": [
    "!pip install bert-extractive-summarizer"
   ]
  },
  {
   "cell_type": "code",
   "execution_count": 2,
   "metadata": {
    "state": "normal"
   },
   "outputs": [
    {
     "name": "stdout",
     "output_type": "stream",
     "text": [
      "Collecting rouge\n",
      "  Downloading rouge-1.0.1-py3-none-any.whl (13 kB)\n",
      "Requirement already satisfied: six in /opt/conda/lib/python3.7/site-packages (from rouge) (1.13.0)\n",
      "Installing collected packages: rouge\n",
      "Successfully installed rouge-1.0.1\n",
      "\u001b[33mWARNING: You are using pip version 21.0.1; however, version 22.0.4 is available.\n",
      "You should consider upgrading via the '/opt/conda/bin/python3 -m pip install --upgrade pip' command.\u001b[0m\n"
     ]
    }
   ],
   "source": [
    "!pip install rouge"
   ]
  },
  {
   "cell_type": "markdown",
   "metadata": {
    "state": "normal"
   },
   "source": [
    "### Uploading and cleaning up the data"
   ]
  },
  {
   "cell_type": "markdown",
   "metadata": {
    "state": "normal"
   },
   "source": [
    "#### Articles is a DataFrame that contains the following:\n",
    "\n",
    "author: The author of each article\n",
    "\n",
    "date: The date each article was published\n",
    "\n",
    "headlines: The headline of each article\n",
    "\n",
    "read_more: The link leading to each article\n",
    "\n",
    "\n",
    "text: The human summarized form of each article\n",
    "\n",
    "ctext: The full articles"
   ]
  },
  {
   "cell_type": "code",
   "execution_count": 9,
   "metadata": {
    "state": "normal"
   },
   "outputs": [],
   "source": [
    "#en_stops = set(stopwords.words('english'))\n",
    " \n",
    "articles = pd.read_csv(\"news_summary.csv\", encoding = 'unicode_escape')\n",
    "#articles"
   ]
  },
  {
   "cell_type": "code",
   "execution_count": 10,
   "metadata": {
    "state": "normal"
   },
   "outputs": [
    {
     "data": {
      "text/html": [
       "<div>\n",
       "<style scoped>\n",
       "    .dataframe tbody tr th:only-of-type {\n",
       "        vertical-align: middle;\n",
       "    }\n",
       "\n",
       "    .dataframe tbody tr th {\n",
       "        vertical-align: top;\n",
       "    }\n",
       "\n",
       "    .dataframe thead th {\n",
       "        text-align: right;\n",
       "    }\n",
       "</style>\n",
       "<table border=\"1\" class=\"dataframe\">\n",
       "  <thead>\n",
       "    <tr style=\"text-align: right;\">\n",
       "      <th></th>\n",
       "      <th>author</th>\n",
       "      <th>date</th>\n",
       "      <th>headlines</th>\n",
       "      <th>read_more</th>\n",
       "      <th>text</th>\n",
       "      <th>ctext</th>\n",
       "    </tr>\n",
       "  </thead>\n",
       "  <tbody>\n",
       "    <tr>\n",
       "      <th>0</th>\n",
       "      <td>Chhavi Tyagi</td>\n",
       "      <td>03 Aug 2017,Thursday</td>\n",
       "      <td>Daman &amp; Diu revokes mandatory Rakshabandhan in...</td>\n",
       "      <td>http://www.hindustantimes.com/india-news/raksh...</td>\n",
       "      <td>The Administration of Union Territory Daman an...</td>\n",
       "      <td>The Daman and Diu administration on Wednesday ...</td>\n",
       "    </tr>\n",
       "    <tr>\n",
       "      <th>1</th>\n",
       "      <td>Daisy Mowke</td>\n",
       "      <td>03 Aug 2017,Thursday</td>\n",
       "      <td>Malaika slams user who trolled her for 'divorc...</td>\n",
       "      <td>http://www.hindustantimes.com/bollywood/malaik...</td>\n",
       "      <td>Malaika Arora slammed an Instagram user who tr...</td>\n",
       "      <td>From her special numbers to TV?appearances, Bo...</td>\n",
       "    </tr>\n",
       "    <tr>\n",
       "      <th>2</th>\n",
       "      <td>Arshiya Chopra</td>\n",
       "      <td>03 Aug 2017,Thursday</td>\n",
       "      <td>'Virgin' now corrected to 'Unmarried' in IGIMS...</td>\n",
       "      <td>http://www.hindustantimes.com/patna/bihar-igim...</td>\n",
       "      <td>The Indira Gandhi Institute of Medical Science...</td>\n",
       "      <td>The Indira Gandhi Institute of Medical Science...</td>\n",
       "    </tr>\n",
       "    <tr>\n",
       "      <th>3</th>\n",
       "      <td>Sumedha Sehra</td>\n",
       "      <td>03 Aug 2017,Thursday</td>\n",
       "      <td>Aaj aapne pakad liya: LeT man Dujana before be...</td>\n",
       "      <td>http://indiatoday.intoday.in/story/abu-dujana-...</td>\n",
       "      <td>Lashkar-e-Taiba's Kashmir commander Abu Dujana...</td>\n",
       "      <td>Lashkar-e-Taiba's Kashmir commander Abu Dujana...</td>\n",
       "    </tr>\n",
       "    <tr>\n",
       "      <th>4</th>\n",
       "      <td>Aarushi Maheshwari</td>\n",
       "      <td>03 Aug 2017,Thursday</td>\n",
       "      <td>Hotel staff to get training to spot signs of s...</td>\n",
       "      <td>http://indiatoday.intoday.in/story/sex-traffic...</td>\n",
       "      <td>Hotels in Maharashtra will train their staff t...</td>\n",
       "      <td>Hotels in Mumbai and other Indian cities are t...</td>\n",
       "    </tr>\n",
       "    <tr>\n",
       "      <th>...</th>\n",
       "      <td>...</td>\n",
       "      <td>...</td>\n",
       "      <td>...</td>\n",
       "      <td>...</td>\n",
       "      <td>...</td>\n",
       "      <td>...</td>\n",
       "    </tr>\n",
       "    <tr>\n",
       "      <th>4509</th>\n",
       "      <td>Mansha Mahajan</td>\n",
       "      <td>24 Feb 2017,Friday</td>\n",
       "      <td>Rasna seeking ?250 cr revenue from snack categ...</td>\n",
       "      <td>http://indiatoday.intoday.in/story/rasna-eyes-...</td>\n",
       "      <td>Fruit juice concentrate maker Rasna is eyeing ...</td>\n",
       "      <td>Mumbai, Feb 23 (PTI) Fruit juice concentrate m...</td>\n",
       "    </tr>\n",
       "    <tr>\n",
       "      <th>4510</th>\n",
       "      <td>Dishant Sharma</td>\n",
       "      <td>03 Aug 2017,Thursday</td>\n",
       "      <td>Sachin attends Rajya Sabha after questions on ...</td>\n",
       "      <td>http://indiatoday.intoday.in/story/sachin-tend...</td>\n",
       "      <td>Former Indian cricketer Sachin Tendulkar atten...</td>\n",
       "      <td>Former cricketer Sachin Tendulkar was spotted ...</td>\n",
       "    </tr>\n",
       "    <tr>\n",
       "      <th>4511</th>\n",
       "      <td>Tanya Dhingra</td>\n",
       "      <td>03 Aug 2017,Thursday</td>\n",
       "      <td>Shouldn't rob their childhood: Aamir on kids r...</td>\n",
       "      <td>http://www.hindustantimes.com/bollywood/secret...</td>\n",
       "      <td>Aamir Khan, while talking about reality shows ...</td>\n",
       "      <td>Aamir Khan, whose last film Dangal told the st...</td>\n",
       "    </tr>\n",
       "    <tr>\n",
       "      <th>4512</th>\n",
       "      <td>Pragya Swastik</td>\n",
       "      <td>07 Dec 2016,Wednesday</td>\n",
       "      <td>Asha Bhosle gets ?53,000 power bill for unused...</td>\n",
       "      <td>http://indiatoday.intoday.in/story/singer-asha...</td>\n",
       "      <td>The Maharashtra government has initiated an in...</td>\n",
       "      <td>Maharahstra Power Minister Chandrashekhar Bawa...</td>\n",
       "    </tr>\n",
       "    <tr>\n",
       "      <th>4513</th>\n",
       "      <td>Chhavi Tyagi</td>\n",
       "      <td>03 Aug 2017,Thursday</td>\n",
       "      <td>More than half of India's languages may die in...</td>\n",
       "      <td>http://indiatoday.intoday.in/story/indian-lang...</td>\n",
       "      <td>At least 400 languages or more than half langu...</td>\n",
       "      <td>More than half of the languages spoken by Indi...</td>\n",
       "    </tr>\n",
       "  </tbody>\n",
       "</table>\n",
       "<p>4514 rows × 6 columns</p>\n",
       "</div>"
      ],
      "text/plain": [
       "                  author                   date  \\\n",
       "0           Chhavi Tyagi   03 Aug 2017,Thursday   \n",
       "1            Daisy Mowke   03 Aug 2017,Thursday   \n",
       "2         Arshiya Chopra   03 Aug 2017,Thursday   \n",
       "3          Sumedha Sehra   03 Aug 2017,Thursday   \n",
       "4     Aarushi Maheshwari   03 Aug 2017,Thursday   \n",
       "...                  ...                    ...   \n",
       "4509      Mansha Mahajan     24 Feb 2017,Friday   \n",
       "4510      Dishant Sharma   03 Aug 2017,Thursday   \n",
       "4511       Tanya Dhingra   03 Aug 2017,Thursday   \n",
       "4512      Pragya Swastik  07 Dec 2016,Wednesday   \n",
       "4513        Chhavi Tyagi   03 Aug 2017,Thursday   \n",
       "\n",
       "                                              headlines  \\\n",
       "0     Daman & Diu revokes mandatory Rakshabandhan in...   \n",
       "1     Malaika slams user who trolled her for 'divorc...   \n",
       "2     'Virgin' now corrected to 'Unmarried' in IGIMS...   \n",
       "3     Aaj aapne pakad liya: LeT man Dujana before be...   \n",
       "4     Hotel staff to get training to spot signs of s...   \n",
       "...                                                 ...   \n",
       "4509  Rasna seeking ?250 cr revenue from snack categ...   \n",
       "4510  Sachin attends Rajya Sabha after questions on ...   \n",
       "4511  Shouldn't rob their childhood: Aamir on kids r...   \n",
       "4512  Asha Bhosle gets ?53,000 power bill for unused...   \n",
       "4513  More than half of India's languages may die in...   \n",
       "\n",
       "                                              read_more  \\\n",
       "0     http://www.hindustantimes.com/india-news/raksh...   \n",
       "1     http://www.hindustantimes.com/bollywood/malaik...   \n",
       "2     http://www.hindustantimes.com/patna/bihar-igim...   \n",
       "3     http://indiatoday.intoday.in/story/abu-dujana-...   \n",
       "4     http://indiatoday.intoday.in/story/sex-traffic...   \n",
       "...                                                 ...   \n",
       "4509  http://indiatoday.intoday.in/story/rasna-eyes-...   \n",
       "4510  http://indiatoday.intoday.in/story/sachin-tend...   \n",
       "4511  http://www.hindustantimes.com/bollywood/secret...   \n",
       "4512  http://indiatoday.intoday.in/story/singer-asha...   \n",
       "4513  http://indiatoday.intoday.in/story/indian-lang...   \n",
       "\n",
       "                                                   text  \\\n",
       "0     The Administration of Union Territory Daman an...   \n",
       "1     Malaika Arora slammed an Instagram user who tr...   \n",
       "2     The Indira Gandhi Institute of Medical Science...   \n",
       "3     Lashkar-e-Taiba's Kashmir commander Abu Dujana...   \n",
       "4     Hotels in Maharashtra will train their staff t...   \n",
       "...                                                 ...   \n",
       "4509  Fruit juice concentrate maker Rasna is eyeing ...   \n",
       "4510  Former Indian cricketer Sachin Tendulkar atten...   \n",
       "4511  Aamir Khan, while talking about reality shows ...   \n",
       "4512  The Maharashtra government has initiated an in...   \n",
       "4513  At least 400 languages or more than half langu...   \n",
       "\n",
       "                                                  ctext  \n",
       "0     The Daman and Diu administration on Wednesday ...  \n",
       "1     From her special numbers to TV?appearances, Bo...  \n",
       "2     The Indira Gandhi Institute of Medical Science...  \n",
       "3     Lashkar-e-Taiba's Kashmir commander Abu Dujana...  \n",
       "4     Hotels in Mumbai and other Indian cities are t...  \n",
       "...                                                 ...  \n",
       "4509  Mumbai, Feb 23 (PTI) Fruit juice concentrate m...  \n",
       "4510  Former cricketer Sachin Tendulkar was spotted ...  \n",
       "4511  Aamir Khan, whose last film Dangal told the st...  \n",
       "4512  Maharahstra Power Minister Chandrashekhar Bawa...  \n",
       "4513  More than half of the languages spoken by Indi...  \n",
       "\n",
       "[4514 rows x 6 columns]"
      ]
     },
     "execution_count": 10,
     "metadata": {},
     "output_type": "execute_result"
    }
   ],
   "source": [
    "articles"
   ]
  },
  {
   "cell_type": "markdown",
   "metadata": {
    "state": "normal"
   },
   "source": [
    "Duplicate articles and empty rows removed from dataset"
   ]
  },
  {
   "cell_type": "code",
   "execution_count": 47,
   "metadata": {
    "state": "normal"
   },
   "outputs": [
    {
     "data": {
      "text/html": [
       "<div>\n",
       "<style scoped>\n",
       "    .dataframe tbody tr th:only-of-type {\n",
       "        vertical-align: middle;\n",
       "    }\n",
       "\n",
       "    .dataframe tbody tr th {\n",
       "        vertical-align: top;\n",
       "    }\n",
       "\n",
       "    .dataframe thead th {\n",
       "        text-align: right;\n",
       "    }\n",
       "</style>\n",
       "<table border=\"1\" class=\"dataframe\">\n",
       "  <thead>\n",
       "    <tr style=\"text-align: right;\">\n",
       "      <th></th>\n",
       "      <th>author</th>\n",
       "      <th>date</th>\n",
       "      <th>headlines</th>\n",
       "      <th>read_more</th>\n",
       "      <th>text</th>\n",
       "      <th>ctext</th>\n",
       "    </tr>\n",
       "  </thead>\n",
       "  <tbody>\n",
       "    <tr>\n",
       "      <th>0</th>\n",
       "      <td>Chhavi Tyagi</td>\n",
       "      <td>03 Aug 2017,Thursday</td>\n",
       "      <td>Daman &amp; Diu revokes mandatory Rakshabandhan in...</td>\n",
       "      <td>http://www.hindustantimes.com/india-news/raksh...</td>\n",
       "      <td>The Administration of Union Territory Daman an...</td>\n",
       "      <td>The Daman and Diu administration on Wednesday ...</td>\n",
       "    </tr>\n",
       "    <tr>\n",
       "      <th>1</th>\n",
       "      <td>Daisy Mowke</td>\n",
       "      <td>03 Aug 2017,Thursday</td>\n",
       "      <td>Malaika slams user who trolled her for 'divorc...</td>\n",
       "      <td>http://www.hindustantimes.com/bollywood/malaik...</td>\n",
       "      <td>Malaika Arora slammed an Instagram user who tr...</td>\n",
       "      <td>From her special numbers to TVappearances, Bol...</td>\n",
       "    </tr>\n",
       "    <tr>\n",
       "      <th>2</th>\n",
       "      <td>Arshiya Chopra</td>\n",
       "      <td>03 Aug 2017,Thursday</td>\n",
       "      <td>'Virgin' now corrected to 'Unmarried' in IGIMS...</td>\n",
       "      <td>http://www.hindustantimes.com/patna/bihar-igim...</td>\n",
       "      <td>The Indira Gandhi Institute of Medical Science...</td>\n",
       "      <td>The Indira Gandhi Institute of Medical Science...</td>\n",
       "    </tr>\n",
       "    <tr>\n",
       "      <th>3</th>\n",
       "      <td>Sumedha Sehra</td>\n",
       "      <td>03 Aug 2017,Thursday</td>\n",
       "      <td>Aaj aapne pakad liya: LeT man Dujana before be...</td>\n",
       "      <td>http://indiatoday.intoday.in/story/abu-dujana-...</td>\n",
       "      <td>Lashkar-e-Taiba's Kashmir commander Abu Dujana...</td>\n",
       "      <td>Lashkar-e-Taiba's Kashmir commander Abu Dujana...</td>\n",
       "    </tr>\n",
       "    <tr>\n",
       "      <th>4</th>\n",
       "      <td>Aarushi Maheshwari</td>\n",
       "      <td>03 Aug 2017,Thursday</td>\n",
       "      <td>Hotel staff to get training to spot signs of s...</td>\n",
       "      <td>http://indiatoday.intoday.in/story/sex-traffic...</td>\n",
       "      <td>Hotels in Maharashtra will train their staff t...</td>\n",
       "      <td>Hotels in Mumbai and other Indian cities are t...</td>\n",
       "    </tr>\n",
       "    <tr>\n",
       "      <th>...</th>\n",
       "      <td>...</td>\n",
       "      <td>...</td>\n",
       "      <td>...</td>\n",
       "      <td>...</td>\n",
       "      <td>...</td>\n",
       "      <td>...</td>\n",
       "    </tr>\n",
       "    <tr>\n",
       "      <th>4391</th>\n",
       "      <td>Mansha Mahajan</td>\n",
       "      <td>24 Feb 2017,Friday</td>\n",
       "      <td>Rasna seeking ?250 cr revenue from snack categ...</td>\n",
       "      <td>http://indiatoday.intoday.in/story/rasna-eyes-...</td>\n",
       "      <td>Fruit juice concentrate maker Rasna is eyeing ...</td>\n",
       "      <td>Mumbai, Feb 23 (PTI) Fruit juice concentrate m...</td>\n",
       "    </tr>\n",
       "    <tr>\n",
       "      <th>4392</th>\n",
       "      <td>Dishant Sharma</td>\n",
       "      <td>03 Aug 2017,Thursday</td>\n",
       "      <td>Sachin attends Rajya Sabha after questions on ...</td>\n",
       "      <td>http://indiatoday.intoday.in/story/sachin-tend...</td>\n",
       "      <td>Former Indian cricketer Sachin Tendulkar atten...</td>\n",
       "      <td>Former cricketer Sachin Tendulkar was spotted ...</td>\n",
       "    </tr>\n",
       "    <tr>\n",
       "      <th>4393</th>\n",
       "      <td>Tanya Dhingra</td>\n",
       "      <td>03 Aug 2017,Thursday</td>\n",
       "      <td>Shouldn't rob their childhood: Aamir on kids r...</td>\n",
       "      <td>http://www.hindustantimes.com/bollywood/secret...</td>\n",
       "      <td>Aamir Khan, while talking about reality shows ...</td>\n",
       "      <td>Aamir Khan, whose last film Dangal told the st...</td>\n",
       "    </tr>\n",
       "    <tr>\n",
       "      <th>4394</th>\n",
       "      <td>Pragya Swastik</td>\n",
       "      <td>07 Dec 2016,Wednesday</td>\n",
       "      <td>Asha Bhosle gets ?53,000 power bill for unused...</td>\n",
       "      <td>http://indiatoday.intoday.in/story/singer-asha...</td>\n",
       "      <td>The Maharashtra government has initiated an in...</td>\n",
       "      <td>Maharahstra Power Minister Chandrashekhar Bawa...</td>\n",
       "    </tr>\n",
       "    <tr>\n",
       "      <th>4395</th>\n",
       "      <td>Chhavi Tyagi</td>\n",
       "      <td>03 Aug 2017,Thursday</td>\n",
       "      <td>More than half of India's languages may die in...</td>\n",
       "      <td>http://indiatoday.intoday.in/story/indian-lang...</td>\n",
       "      <td>At least 400 languages or more than half langu...</td>\n",
       "      <td>More than half of the languages spoken by Indi...</td>\n",
       "    </tr>\n",
       "  </tbody>\n",
       "</table>\n",
       "<p>4396 rows × 6 columns</p>\n",
       "</div>"
      ],
      "text/plain": [
       "                  author                   date  \\\n",
       "0           Chhavi Tyagi   03 Aug 2017,Thursday   \n",
       "1            Daisy Mowke   03 Aug 2017,Thursday   \n",
       "2         Arshiya Chopra   03 Aug 2017,Thursday   \n",
       "3          Sumedha Sehra   03 Aug 2017,Thursday   \n",
       "4     Aarushi Maheshwari   03 Aug 2017,Thursday   \n",
       "...                  ...                    ...   \n",
       "4391      Mansha Mahajan     24 Feb 2017,Friday   \n",
       "4392      Dishant Sharma   03 Aug 2017,Thursday   \n",
       "4393       Tanya Dhingra   03 Aug 2017,Thursday   \n",
       "4394      Pragya Swastik  07 Dec 2016,Wednesday   \n",
       "4395        Chhavi Tyagi   03 Aug 2017,Thursday   \n",
       "\n",
       "                                              headlines  \\\n",
       "0     Daman & Diu revokes mandatory Rakshabandhan in...   \n",
       "1     Malaika slams user who trolled her for 'divorc...   \n",
       "2     'Virgin' now corrected to 'Unmarried' in IGIMS...   \n",
       "3     Aaj aapne pakad liya: LeT man Dujana before be...   \n",
       "4     Hotel staff to get training to spot signs of s...   \n",
       "...                                                 ...   \n",
       "4391  Rasna seeking ?250 cr revenue from snack categ...   \n",
       "4392  Sachin attends Rajya Sabha after questions on ...   \n",
       "4393  Shouldn't rob their childhood: Aamir on kids r...   \n",
       "4394  Asha Bhosle gets ?53,000 power bill for unused...   \n",
       "4395  More than half of India's languages may die in...   \n",
       "\n",
       "                                              read_more  \\\n",
       "0     http://www.hindustantimes.com/india-news/raksh...   \n",
       "1     http://www.hindustantimes.com/bollywood/malaik...   \n",
       "2     http://www.hindustantimes.com/patna/bihar-igim...   \n",
       "3     http://indiatoday.intoday.in/story/abu-dujana-...   \n",
       "4     http://indiatoday.intoday.in/story/sex-traffic...   \n",
       "...                                                 ...   \n",
       "4391  http://indiatoday.intoday.in/story/rasna-eyes-...   \n",
       "4392  http://indiatoday.intoday.in/story/sachin-tend...   \n",
       "4393  http://www.hindustantimes.com/bollywood/secret...   \n",
       "4394  http://indiatoday.intoday.in/story/singer-asha...   \n",
       "4395  http://indiatoday.intoday.in/story/indian-lang...   \n",
       "\n",
       "                                                   text  \\\n",
       "0     The Administration of Union Territory Daman an...   \n",
       "1     Malaika Arora slammed an Instagram user who tr...   \n",
       "2     The Indira Gandhi Institute of Medical Science...   \n",
       "3     Lashkar-e-Taiba's Kashmir commander Abu Dujana...   \n",
       "4     Hotels in Maharashtra will train their staff t...   \n",
       "...                                                 ...   \n",
       "4391  Fruit juice concentrate maker Rasna is eyeing ...   \n",
       "4392  Former Indian cricketer Sachin Tendulkar atten...   \n",
       "4393  Aamir Khan, while talking about reality shows ...   \n",
       "4394  The Maharashtra government has initiated an in...   \n",
       "4395  At least 400 languages or more than half langu...   \n",
       "\n",
       "                                                  ctext  \n",
       "0     The Daman and Diu administration on Wednesday ...  \n",
       "1     From her special numbers to TVappearances, Bol...  \n",
       "2     The Indira Gandhi Institute of Medical Science...  \n",
       "3     Lashkar-e-Taiba's Kashmir commander Abu Dujana...  \n",
       "4     Hotels in Mumbai and other Indian cities are t...  \n",
       "...                                                 ...  \n",
       "4391  Mumbai, Feb 23 (PTI) Fruit juice concentrate m...  \n",
       "4392  Former cricketer Sachin Tendulkar was spotted ...  \n",
       "4393  Aamir Khan, whose last film Dangal told the st...  \n",
       "4394  Maharahstra Power Minister Chandrashekhar Bawa...  \n",
       "4395  More than half of the languages spoken by Indi...  \n",
       "\n",
       "[4396 rows x 6 columns]"
      ]
     },
     "execution_count": 47,
     "metadata": {},
     "output_type": "execute_result"
    }
   ],
   "source": [
    "articles = articles.drop_duplicates(ignore_index=True)\n",
    "aritcles = articles.dropna(subset=['ctext'],inplace=True)\n",
    "articles = articles.reset_index(drop=True)\n",
    "articles"
   ]
  },
  {
   "cell_type": "markdown",
   "metadata": {
    "state": "normal"
   },
   "source": [
    "An example article, to determine what kind of cleanup needs to be done"
   ]
  },
  {
   "cell_type": "code",
   "execution_count": 12,
   "metadata": {
    "state": "normal"
   },
   "outputs": [
    {
     "data": {
      "text/plain": [
       "'The Daman and Diu administration on Wednesday withdrew a circular that asked women staff to tie rakhis on male colleagues after the order triggered a backlash from employees and was ripped apart on social media.The union territory?s administration was forced to retreat within 24 hours of issuing the circular that made it compulsory for its staff to celebrate Rakshabandhan at workplace.?It has been decided to celebrate the festival of Rakshabandhan on August 7. In this connection, all offices/ departments shall remain open and celebrate the festival collectively at a suitable time wherein all the lady staff shall tie rakhis to their colleagues,? the order, issued on August 1 by Gurpreet Singh, deputy secretary (personnel), had said.To ensure that no one skipped office, an attendance report was to be sent to the government the next evening.The two notifications ? one mandating the celebration of Rakshabandhan (left) and the other withdrawing the mandate (right) ? were issued by the Daman and Diu administration a day apart. The circular was withdrawn through a one-line order issued late in the evening by the UT?s department of personnel and administrative reforms.?The circular is ridiculous. There are sensitivities involved. How can the government dictate who I should tie rakhi to? We should maintain the professionalism of a workplace? an official told Hindustan Times earlier in the day. She refused to be identified.The notice was issued on Daman and Diu administrator and former Gujarat home minister Praful Kodabhai Patel?s direction, sources said.Rakshabandhan, a celebration of the bond between brothers and sisters, is one of several Hindu festivities and rituals that are no longer confined of private, family affairs but have become tools to push politic al ideologies.In 2014, the year BJP stormed to power at the Centre, Rashtriya Swayamsevak Sangh (RSS) chief Mohan Bhagwat said the festival had ?national significance? and should be celebrated widely ?to protect Hindu culture and live by the values enshrined in it?. The RSS is the ideological parent of the ruling BJP.Last year, women ministers in the Modi government went to the border areas to celebrate the festival with soldiers. A year before, all cabinet ministers were asked to go to their constituencies for the festival.'"
      ]
     },
     "execution_count": 12,
     "metadata": {},
     "output_type": "execute_result"
    }
   ],
   "source": [
    "test_article = articles['ctext'][0]\n",
    "test_article"
   ]
  },
  {
   "cell_type": "markdown",
   "metadata": {
    "state": "normal"
   },
   "source": [
    "Regex is used on the test article to replace stray question marks (in the dataset, many symbols were replaced with ?s)."
   ]
  },
  {
   "cell_type": "code",
   "execution_count": 13,
   "metadata": {
    "state": "normal"
   },
   "outputs": [
    {
     "data": {
      "text/plain": [
       "'The Daman and Diu administration on Wednesday withdrew a circular that asked women staff to tie rakhis on male colleagues after the order triggered a backlash from employees and was ripped apart on social media. The union territorys administration was forced to retreat within 24 hours of issuing the circular that made it compulsory for its staff to celebrate Rakshabandhan at workplace. It has been decided to celebrate the festival of Rakshabandhan on August 7. In this connection, all offices/ departments shall remain open and celebrate the festival collectively at a suitable time wherein all the lady staff shall tie rakhis to their colleagues, the order, issued on August 1 by Gurpreet Singh, deputy secretary (personnel), had said. To ensure that no one skipped office, an attendance report was to be sent to the government the next evening. The two notifications one mandating the celebration of Rakshabandhan (left) and the other withdrawing the mandate (right) were issued by the Daman and Diu administration a day apart. The circular was withdrawn through a one-line order issued late in the evening by the UTs department of personnel and administrative reforms. The circular is ridiculous. There are sensitivities involved. How can the government dictate who I should tie rakhi to? We should maintain the professionalism of a workplace an official told Hindustan Times earlier in the day. She refused to be identified. The notice was issued on Daman and Diu administrator and former Gujarat home minister Praful Kodabhai Patels direction, sources said. Rakshabandhan, a celebration of the bond between brothers and sisters, is one of several Hindu festivities and rituals that are no longer confined of private, family affairs but have become tools to push politic al ideologies. In 2014, the year BJP stormed to power at the Centre, Rashtriya Swayamsevak Sangh (RSS) chief Mohan Bhagwat said the festival had national significance and should be celebrated widely to protect Hindu culture and live by the values enshrined in it. The RSS is the ideological parent of the ruling BJP. Last year, women ministers in the Modi government went to the border areas to celebrate the festival with soldiers. A year before, all cabinet ministers were asked to go to their constituencies for the festival.'"
      ]
     },
     "execution_count": 13,
     "metadata": {},
     "output_type": "execute_result"
    }
   ],
   "source": [
    "import re\n",
    "# help with only replacing part of regex\n",
    "# https://stackoverflow.com/questions/39950775/regex-replace-only-a-part-of-the-match\n",
    "\n",
    "test_article = re.sub(\" \\? \", \" \", test_article)\n",
    "test_article = re.sub(\" \\?\", \" \", test_article)\n",
    "test_article = re.sub(r\"\\?( [a-z])\", r\"\\1\", test_article)\n",
    "test_article = re.sub(r\"\\?([a-z])\", r\"\\1\", test_article)\n",
    "test_article = re.sub(\"\\.\\?\", \".\", test_article)\n",
    "test_article = re.sub(\"\\?\\.\", \".\", test_article)\n",
    "test_article = re.sub(r\"\\.([A-Z])\", r\". \\1\", test_article)\n",
    "test_article = re.sub(r\"\\?( [^A-Z])\", r\"\\1\", test_article)\n",
    "test_article = re.sub(r\"\\?(\\,)\", r\"\\1\", test_article)\n",
    "#test_article = re.sub(\"\\?.\", \"\", test_article)\n",
    "test_article"
   ]
  },
  {
   "cell_type": "code",
   "execution_count": 14,
   "metadata": {
    "state": "normal"
   },
   "outputs": [
    {
     "data": {
      "text/plain": [
       "'From her special numbers to TV?appearances, Bollywood actor Malaika Arora Khan has managed to carve her own identity. The actor, who made her debut in the Hindi film industry with the blockbuster debut opposite Shah Rukh Khan in Chaiyya Chaiyya from Dil Se (1998), is still remembered for the song. However, for trolls, she is a woman first and what matters right now is that she divorced a ?rich man?.  On Wednesday, Malaika Arora shared a gorgeous picture of herself on Instagram and a follower decided to troll her for using her ?alumni? (read alimony) money to wear ?short clothes and going to gym or salon?. Little did he/she know that the Munni Badnam star would reply with the perfect comeback. Take a look at the interaction:     Super excited to be affiliated with Khanna Jewellers @khannajewellerskj as their brand ambassador. Crafted to perfection, their stunning statement jewellery is a must have for every jewellery lover. #khannajewellers...#maksquad?? #hair @hairbypriyanka #stylist @manekaharisinghani #manager @ektakauroberoi #mua? @subbu28 #photographer @prasdnaik A post shared by Malaika Arora Khan (@malaikaarorakhanofficial) on Aug 2, 2017 at 6:20am PDT Then, Malaika decided to reply: The entire conversation only proves that no matter if a woman is successful, she will be attacked the moment she decides to step out of bounds the society decided for her. Apart from being a successful woman who lives life on her own terms, Malaika has literally played all the roles traditionally prescribed for a woman - she married quite early, had a son and raised him and was always around with the ?khandan?. But then, she got divorced and alimony is the taunt being thrown at her. The details of the alimony are only known to Malaika, her husband Arbaaz Khan and perhaps the family. The couple has handled the divorce with the utmost dignity. But we can vouch for the fact that she did not  need an alimony to buy clothes (short or not, her choice), go on vacations and enjoy her life. If anything, she is as successful, if not more, than her ex-husband.What happened between Arbaaz and Malaika is their personal concern. But to claim that Malaika married and then divorced Arbaaz for money doesn?t hold water. For those who do not agree, please get a course in feminism and for others, here?s a playlist of some of her most popular songs. Follow @htshowbiz for more'"
      ]
     },
     "execution_count": 14,
     "metadata": {},
     "output_type": "execute_result"
    }
   ],
   "source": [
    "test_article2 = articles['ctext'][1]\n",
    "test_article2"
   ]
  },
  {
   "cell_type": "code",
   "execution_count": 15,
   "metadata": {
    "state": "normal"
   },
   "outputs": [
    {
     "data": {
      "text/plain": [
       "'From her special numbers to TVappearances, Bollywood actor Malaika Arora Khan has managed to carve her own identity. The actor, who made her debut in the Hindi film industry with the blockbuster debut opposite Shah Rukh Khan in Chaiyya Chaiyya from Dil Se (1998), is still remembered for the song. However, for trolls, she is a woman first and what matters right now is that she divorced a rich man.  On Wednesday, Malaika Arora shared a gorgeous picture of herself on Instagram and a follower decided to troll her for using her alumni (read alimony) money to wear short clothes and going to gym or salon. Little did he/she know that the Munni Badnam star would reply with the perfect comeback. Take a look at the interaction:     Super excited to be affiliated with Khanna Jewellers @khannajewellerskj as their brand ambassador. Crafted to perfection, their stunning statement jewellery is a must have for every jewellery lover. #khannajewellers...#maksquad? #hair @hairbypriyanka #stylist @manekaharisinghani #manager @ektakauroberoi #mua @subbu28 #photographer @prasdnaik A post shared by Malaika Arora Khan (@malaikaarorakhanofficial) on Aug 2, 2017 at 6:20am PDT Then, Malaika decided to reply: The entire conversation only proves that no matter if a woman is successful, she will be attacked the moment she decides to step out of bounds the society decided for her. Apart from being a successful woman who lives life on her own terms, Malaika has literally played all the roles traditionally prescribed for a woman - she married quite early, had a son and raised him and was always around with the khandan. But then, she got divorced and alimony is the taunt being thrown at her. The details of the alimony are only known to Malaika, her husband Arbaaz Khan and perhaps the family. The couple has handled the divorce with the utmost dignity. But we can vouch for the fact that she did not  need an alimony to buy clothes (short or not, her choice), go on vacations and enjoy her life. If anything, she is as successful, if not more, than her ex-husband. What happened between Arbaaz and Malaika is their personal concern. But to claim that Malaika married and then divorced Arbaaz for money doesnt hold water. For those who do not agree, please get a course in feminism and for others, heres a playlist of some of her most popular songs. Follow @htshowbiz for more'"
      ]
     },
     "execution_count": 15,
     "metadata": {},
     "output_type": "execute_result"
    }
   ],
   "source": [
    "test_article2 = re.sub(\" \\? \", \" \", test_article2)\n",
    "test_article2 = re.sub(\" \\?\", \" \", test_article2)\n",
    "test_article2 = re.sub(r\"\\?( [a-z])\", r\"\\1\", test_article2)\n",
    "test_article2 = re.sub(r\"\\?([a-z])\", r\"\\1\", test_article2)\n",
    "test_article2 = re.sub(\"\\.\\?\", \".\", test_article2)\n",
    "test_article2 = re.sub(\"\\?\\.\", \".\", test_article2)\n",
    "test_article2 = re.sub(r\"\\.([A-Z])\", r\". \\1\", test_article2)\n",
    "test_article2 = re.sub(r\"\\?( [^A-Z])\", r\"\\1\", test_article2)\n",
    "test_article2 = re.sub(r\"\\?(\\,)\", r\"\\1\", test_article2)\n",
    "test_article2"
   ]
  },
  {
   "cell_type": "code",
   "execution_count": 16,
   "metadata": {
    "state": "normal"
   },
   "outputs": [
    {
     "data": {
      "text/plain": [
       "2307"
      ]
     },
     "execution_count": 16,
     "metadata": {},
     "output_type": "execute_result"
    }
   ],
   "source": [
    "len(test_article)"
   ]
  },
  {
   "cell_type": "markdown",
   "metadata": {
    "state": "normal"
   },
   "source": [
    "### Bert Extractive Summarizer library - tested with test articles"
   ]
  },
  {
   "cell_type": "code",
   "execution_count": 17,
   "metadata": {
    "state": "normal"
   },
   "outputs": [
    {
     "name": "stderr",
     "output_type": "stream",
     "text": [
      "Some weights of the model checkpoint at bert-large-uncased were not used when initializing BertModel: ['cls.predictions.transform.LayerNorm.weight', 'cls.predictions.bias', 'cls.predictions.transform.LayerNorm.bias', 'cls.seq_relationship.weight', 'cls.predictions.decoder.weight', 'cls.seq_relationship.bias', 'cls.predictions.transform.dense.bias', 'cls.predictions.transform.dense.weight']\n",
      "- This IS expected if you are initializing BertModel from the checkpoint of a model trained on another task or with another architecture (e.g. initializing a BertForSequenceClassification model from a BertForPreTraining model).\n",
      "- This IS NOT expected if you are initializing BertModel from the checkpoint of a model that you expect to be exactly identical (initializing a BertForSequenceClassification model from a BertForSequenceClassification model).\n"
     ]
    },
    {
     "name": "stdout",
     "output_type": "stream",
     "text": [
      "The Daman and Diu administration on Wednesday withdrew a circular that asked women staff to tie rakhis on male colleagues after the order triggered a backlash from employees and was ripped apart on social media. The union territorys administration was forced to retreat within 24 hours of issuing the circular that made it compulsory for its staff to celebrate Rakshabandhan at workplace. In this connection, all offices/ departments shall remain open and celebrate the festival collectively at a suitable time wherein all the lady staff shall tie rakhis to their colleagues, the order, issued on August 1 by Gurpreet Singh, deputy secretary (personnel), had said. The circular is ridiculous.\n"
     ]
    }
   ],
   "source": [
    "model = Summarizer()\n",
    "result = model(test_article, min_length=20)\n",
    "summary = \"\".join(result)\n",
    "print(summary)"
   ]
  },
  {
   "cell_type": "code",
   "execution_count": 18,
   "metadata": {
    "state": "normal"
   },
   "outputs": [
    {
     "name": "stderr",
     "output_type": "stream",
     "text": [
      "Some weights of the model checkpoint at bert-large-uncased were not used when initializing BertModel: ['cls.predictions.transform.LayerNorm.weight', 'cls.predictions.bias', 'cls.predictions.transform.LayerNorm.bias', 'cls.seq_relationship.weight', 'cls.predictions.decoder.weight', 'cls.seq_relationship.bias', 'cls.predictions.transform.dense.bias', 'cls.predictions.transform.dense.weight']\n",
      "- This IS expected if you are initializing BertModel from the checkpoint of a model trained on another task or with another architecture (e.g. initializing a BertForSequenceClassification model from a BertForPreTraining model).\n",
      "- This IS NOT expected if you are initializing BertModel from the checkpoint of a model that you expect to be exactly identical (initializing a BertForSequenceClassification model from a BertForSequenceClassification model).\n"
     ]
    },
    {
     "name": "stdout",
     "output_type": "stream",
     "text": [
      "The Daman and Diu administration on Wednesday withdrew a circular that asked women staff to tie rakhis on male colleagues after the order triggered a backlash from employees and was ripped apart on social media. The union territorys administration was forced to retreat within 24 hours of issuing the circular that made it compulsory for its staff to celebrate Rakshabandhan at workplace. In this connection, all offices/ departments shall remain open and celebrate the festival collectively at a suitable time wherein all the lady staff shall tie rakhis to their colleagues, the order, issued on August 1 by Gurpreet Singh, deputy secretary (personnel), had said. There are sensitivities involved.\n"
     ]
    }
   ],
   "source": [
    "model = Summarizer()\n",
    "result = model(test_article, min_length=30)\n",
    "summary = \"\".join(result)\n",
    "print(summary)"
   ]
  },
  {
   "cell_type": "code",
   "execution_count": 19,
   "metadata": {
    "state": "normal"
   },
   "outputs": [
    {
     "name": "stderr",
     "output_type": "stream",
     "text": [
      "Some weights of the model checkpoint at bert-large-uncased were not used when initializing BertModel: ['cls.predictions.transform.LayerNorm.weight', 'cls.predictions.bias', 'cls.predictions.transform.LayerNorm.bias', 'cls.seq_relationship.weight', 'cls.predictions.decoder.weight', 'cls.seq_relationship.bias', 'cls.predictions.transform.dense.bias', 'cls.predictions.transform.dense.weight']\n",
      "- This IS expected if you are initializing BertModel from the checkpoint of a model trained on another task or with another architecture (e.g. initializing a BertForSequenceClassification model from a BertForPreTraining model).\n",
      "- This IS NOT expected if you are initializing BertModel from the checkpoint of a model that you expect to be exactly identical (initializing a BertForSequenceClassification model from a BertForSequenceClassification model).\n"
     ]
    },
    {
     "name": "stdout",
     "output_type": "stream",
     "text": [
      "The Daman and Diu administration on Wednesday withdrew a circular that asked women staff to tie rakhis on male colleagues after the order triggered a backlash from employees and was ripped apart on social media. The union territorys administration was forced to retreat within 24 hours of issuing the circular that made it compulsory for its staff to celebrate Rakshabandhan at workplace. In this connection, all offices/ departments shall remain open and celebrate the festival collectively at a suitable time wherein all the lady staff shall tie rakhis to their colleagues, the order, issued on August 1 by Gurpreet Singh, deputy secretary (personnel), had said.\n"
     ]
    }
   ],
   "source": [
    "model = Summarizer()\n",
    "result = model(test_article, min_length=40)\n",
    "summary = \"\".join(result)\n",
    "print(summary)"
   ]
  },
  {
   "cell_type": "markdown",
   "metadata": {
    "state": "normal"
   },
   "source": [
    "### The Summarizer library from Bert uses an  extractive summarizing technique by utilizing pytorch transformers. Bert was originally trained, so we didn't proceed with any further training and strarted testing our data\n",
    "\n",
    "We limited the dataset size to 200 articles."
   ]
  },
  {
   "cell_type": "code",
   "execution_count": 22,
   "metadata": {
    "state": "normal"
   },
   "outputs": [
    {
     "data": {
      "text/plain": [
       "'Jammu and Kashmir police approached the Pakistan high commission in Delhi and asked them to claim the body of Lashkar-e-Taiba (LeT) divisional commander Abu Dujana, killed by the security forces on Tuesday.Munir Khan, Inspector General of Police (IGP) Kashmir told reporters on Tuesday that Pakistan high commission has been approached to claim the body of Dujana, who belonged to Gilgit-Baltistan area in Pakistan-administered part of Kashmir.This is for the first time the authorities have approached Pakistan high commission asking them to claim the body of any Pakistani national killed in anti-militancy operations in Jammu and Kashmir.?If they don?t claim his body, we will give him a proper burial,? the IGP said, adding that authorities wished Dujana?s parents should see their son before burial and for that reason the Commission had been approached.Police refused to hand over Dujana?s body to the civilians for burial. The senior police officer said ?there was no reason to hand over the body of somebody to locals who did not belong to the Kashmir Valley?.Meanwhile, hundreds of mourners attended the burial of the other LeT militant Arif Lalihaari killed on Tuesday with Abu Dujana in Hakripora village.Arif was buried in his native Lalihaar village of Pulwama districton Tuesday evening.'"
      ]
     },
     "execution_count": 22,
     "metadata": {},
     "output_type": "execute_result"
    }
   ],
   "source": [
    "articles['ctext'][30]"
   ]
  },
  {
   "cell_type": "markdown",
   "metadata": {
    "state": "normal"
   },
   "source": [
    "Test pre-processing to remove odd characters"
   ]
  },
  {
   "cell_type": "code",
   "execution_count": 23,
   "metadata": {
    "state": "normal"
   },
   "outputs": [],
   "source": [
    "for i, article in enumerate(articles['ctext']):\n",
    "    article = re.sub(\" \\? \", \" \", article)\n",
    "    article = re.sub(\" \\?\", \" \", article)\n",
    "    article = re.sub(r\"\\?( [a-z])\", r\"\\1\", article)\n",
    "    article = re.sub(r\"\\?([a-z])\", r\"\\1\", article)\n",
    "    article = re.sub(\"\\.\\?\", \".\", article)\n",
    "    article = re.sub(\"\\?\\.\", \".\", article)\n",
    "    article = re.sub(r\"\\.([A-Z])\", r\". \\1\", article)\n",
    "    article = re.sub(r\"\\?( [^A-Z])\", r\"\\1\", article)\n",
    "    article = re.sub(r\"\\?(\\,)\", r\"\\1\", article)\n",
    "    article = re.sub(r\"(\\,)\\?\", r\"\\1\", article)\n",
    "    articles['ctext'][i] = article"
   ]
  },
  {
   "cell_type": "code",
   "execution_count": 24,
   "metadata": {
    "scrolled": true,
    "state": "normal"
   },
   "outputs": [
    {
     "data": {
      "text/plain": [
       "'There is only a 5% chance that the Earth will avoid warming by at least 2C come the end of the century, according to new research that paints a sobering picture of the international effort to stem dangerous climate change. Global trends in the economy, emissions and population growth make it extremely unlikely that the planet will remain below the 2C threshold set out in the Paris climate agreement in 2015, the study states. The Paris accord, signed by 195 countries, commits to holding the average global temperature to well below 2C above pre-industrial levels and sets a more aspirational goal to limit warming to 1.5C. This latter target is barely plausible, the new research finds, with just a 1% chance that temperatures will rise by less than 1.5C. Were closer to the margin than we think, said Adrian Raftery, a University of Washington academic who led the research, published in Nature Climate Change. If we want to avoid 2C, we have very little time left. The public should be very concerned. Governments settled on the 2C threshold partly through political expediency but also because scientists have warned of severe consequences from sea level rise, drought, heatwaves and social unrest should the temperature rise beyond this.  Such risks have been underscored by a separate study, also released on Monday, that shows unabated climate change will cause around 60,000 deaths globally in 2030 and 260,000 deaths by 2100. The study, by the University of North Carolina, found that rising temperatures will exacerbate air pollutants that will particularly threaten those with existing conditions.  According to the University of Washington study, there is a 90% likelihood that temperatures will rise between 2C and 4.9C by 2100. This would put the world in the mid-range warming scenarios mapped out by the UNs Intergovernmental Panel on Climate Change. It negates the most optimistic outcome as well as the worst case, which would see temperatures climb nearly 6C beyond the pre-industrial era. Rather than look at how greenhouse gases will influence temperature, the new research analyzed the past 50 years of trends in world population, per capita gross domestic product (GDP) and carbon intensity, which is the amount of carbon dioxide emitted for each dollar of economic activity. After building a statistical model covering a range of emissions scenarios, the researchers found that carbon intensity will be a crucial factor in future warming. Technological advances are expected to cut global carbon intensity by 90% over the course of the century, with sharp declines in China and India two newly voracious consumers of energy. However, this decline still will not be steep enough to avoid breaching the 2C limit.  The worlds population is expected to grow to about 11 billion people by 2100, but the research found that this will have a relatively small impact upon temperatures as much of this growth will take place in sub-Saharan Africa, which is a minor contributor of greenhouse gas emissions. It has long been acknowledged that emissions cuts promised under the the Paris agreement would not be sufficient to avoid 2C warming. However, it is hoped that periodic reviews of commitments will result in more severe reductions. Donald Trumps pledge to remove the US, the worlds second-largest emitter, from the accord has cast a large shadow over these ambitions.  Even if the 2C target isnt met, action is very important, said Raftery. The more the temperature increases, the worse the impacts will be. We would warn against any tendency to use our results to say that we wont avoid 2C, and so its too late to do anything. On the contrary, avoiding the higher temperature increases that our model envisages is even more important, and also requires urgent action. Raftery acknowledged that a breakthrough technology could dramatically change the outlook but noted that major advances of the past 50 years, such as the computer, robotics, hybrid cars, the internet and electronic fuel injection, have improved carbon efficiency steadily at around 2% a year, rather than in huge jumps. Andrew Dessler, a climate scientist at Texas A&M University who was not involved in the study, said the researchs conclusions were reasonable but said it was difficult to assign a precise probability to future temperature rises. I agree that staying below 2C and 1.5C are unlikely and very, very unlikely, respectively, he said. But this research gives a false sense of rigor. Tomorrow someone could invent a carbon-free energy source that everyone adopts. If you look at technology adoption and action taken on the ozone layer and acid rain, its clear these things can change faster than people predict. Dessler said the falling cost of renewable energy would be a major factor in reducing emissions but further impetus would be needed through new actions such as a price on carbon.  Its like youre driving and about to collide with the car in front of you, he said. You want to hit the brakes as fast as you can. The later you wait, the more painful its going to be. John Sterman, an academic at the MIT Sloan Sustainability Initiative, said the research was an urgent call to action. MIT research has shown that emissions cuts in the Paris agreement would stave off around 1C of temperature increase by 2100 findings misrepresented by Trump when he announced the US departure from the pact. Sterman said the US must dramatically speed the deployment of renewable energy and especially energy efficiency. Fortunately, renewables, storage and other technologies are already cheaper than fossil energy in many places and costs are falling fast. More aggressive policies are urgently needed, but this study should not be taken as evidence that nothing can be done.'"
      ]
     },
     "execution_count": 24,
     "metadata": {},
     "output_type": "execute_result"
    }
   ],
   "source": [
    "articles['ctext'][100]"
   ]
  },
  {
   "cell_type": "markdown",
   "metadata": {
    "state": "normal"
   },
   "source": [
    "Bert Summarization done in batches"
   ]
  },
  {
   "cell_type": "code",
   "execution_count": 25,
   "metadata": {
    "state": "normal"
   },
   "outputs": [
    {
     "name": "stdout",
     "output_type": "stream",
     "text": [
      "\n",
      " 0. The Daman and Diu administration on Wednesday withdrew a circular that asked women staff to tie rakhis on male colleagues after the order triggered a backlash from employees and was ripped apart on social media. The union territorys administration was forced to retreat within 24 hours of issuing the circular that made it compulsory for its staff to celebrate Rakshabandhan at workplace. In this connection, all offices/ departments shall remain open and celebrate the festival collectively at a suitable time wherein all the lady staff shall tie rakhis to their colleagues, the order, issued on August 1 by Gurpreet Singh, deputy secretary (personnel), had said. The circular is ridiculous.\n",
      "\n",
      " 1. From her special numbers to TVappearances, Bollywood actor Malaika Arora Khan has managed to carve her own identity. hair @hairbypriyanka #stylist @manekaharisinghani #manager @ektakauroberoi #mua @subbu28 #photographer @prasdnaik A post shared by Malaika Arora Khan (@malaikaarorakhanofficial) on Aug 2, 2017 at 6:20am PDT Then, Malaika decided to reply: The entire conversation only proves that no matter if a woman is successful, she will be attacked the moment she decides to step out of bounds the society decided for her. What happened between Arbaaz and Malaika is their personal concern. Follow @htshowbiz for more\n",
      "\n",
      " 2. The Indira Gandhi Institute of Medical Sciences (IGIMS) in Patna amended its marital declaration form on Thursday, replacing the word virgin with unmarried after controversy. Dr Biswas had just returned after a four-day leave of absence. In its response, the management of the autonomous super-specialty health facility had clarified on Wednesday that it was in adherence to the central civil services rules followed by the All India Institute of Medical Sciences in New Delhi.\n",
      "\n",
      " 3. Lashkar-e-Taiba's Kashmir commander Abu Dujana was killed in an encounter in a village in Pulwama district of Jammu and Kashmir earlier this week. Maine kaha, kya haal hai (How are you. The officer replies: \"Humara haal chhor Dujana. Kabhi hum aage, kabhi aap, aaj aapne pakad liya, mubarak ho aapko. Dujana, who belonged to Pakistan, was Lashkar-e-Taiba's divisional commander in south Kashmir. With a Rs 15 lakh bounty on his head, Dujana was labelled an 'A++' terrorist - the top grade which was also given to Burhan Wani.\n",
      "\n",
      " 4. Hotels in Mumbai and other Indian cities are to train their staff to spot signs of sex trafficking such as frequent requests for bed linen changes or a \"Do not disturb\" sign left on the door for days on end. The group behind the initiative is also developing a mobile phone app - Rescue Me - which hotel staff can use to alert local police and senior anti-trafficking officers if they see suspicious behavior. \" We are committed to this cause. Awsarmmel said hotels would be told about 50 signs that staff needed to watch out for.\n",
      "\n",
      " 5. An alleged suspect in a kidnapping case was found hanging inside the washroom of the Jahangirpuri police station in north Delhi on Wednesday, hours after he was called by the cops for interrogation. The womans husband suspected five-six persons. Kumar was one of them, said the officer. Pachauri and other family members suspected that Kumar could have been physically and emotionally tortured, because of which he killed himself. A request for post-mortem by a board of doctors is being made.\n",
      "\n",
      " 6. In an interesting ruling, the Delhi high court reduced the compensation awarded to a motor accident victim by 45 per cent after it found negligence on the part of both the parties. Deepak Kumar, the victim, was hit by a motor vehicle driven by a government employee named Ajay Kumar in Palam. The fact that the victim chose to walk across a busy road near the airport, with heavy morning traffic, he knowingly exposed himself to dangers that such risk may entail. Quoting the detailed accident report, the court said if the vehicle was in good condition, being driven in the right lane at the right speed, the accident which was caused at a non-zebra crossing, could be attributed to the sudden appearance of the jaywalker in front of the vehicle.\n",
      "\n",
      " 7. A 60-year old Dalit woman was allegedly lynched in Agra after villagers thought she was out to cut the hair of sleeping women, the first reported fatality of what appears to be turning into a case of mass hysteria. Family members said Maan Devi left the home around 4am on Wednesday but lost her way, reaching a predominantly upper caste neighbourhood where people spotted her. Till Thursday, neither was arrested. Police have dismissed the allegations as rumours in several of these cases, and administration officials are now issuing alerts for local law enforcement to tackle fear mongering. Many referred to it as the muhnochwa, a Bhojpuri amalgam that loosely translates to face snatcher.\n",
      "\n",
      " 8. Two years after a helicopter crash near the Bombay High offshore oil field killed two pilots, an inquiry by the Air Accident Investigation Bureau (AAIB) found that the chopper was flying at a critically low height, without the pilots realising it. After taking off, the Rontappmeyer (RYTYR) helicopter may have faced difficulties as the moon was waning, the report said. AAIB recommended that ONGC, which owns Bombay High along with the helicopter operators, identify helidecks from where night flying can take place.\n",
      "\n",
      " 9. It sounds like satire, but make no mistake: at a time when tomatoes have become forbiddingly pricey, the Congress Party has opened a 'State Bank of Tomato' in Uttar Pradesh's capital, ANI reported on Wednesday. Lucknow (UP): In a unique protest against the rising prices of the tomatoes, Congress opens bank called â??State Bank of Tomatoâ?.\n",
      "\n",
      " 10. The Food Safety and Standards Authority of India (FSSAI) is in the process of creating a network of food banking partners to collect and distribute leftover food from large parties and weddings to the hungry. We are looking at creating a mechanism through which food can be collected from restaurants, weddings, large-scale parties,  says Pawan Agarwal, All food, whether it is paid for or distributed free, must meet the countrys food safety and hygiene standards, he said. Tonnes of food is wasted annually and can be used to feed several thousands.\n",
      "\n",
      " 11. Bharti Sharma, mother of the 16-year-old boy who made headlines for getting a job offer from Google and then for it being a hoax, said on Wednesday the incident had devastated her sons life. Harshit got a phone call. He shared the information with his school principal, who further released a press note, which led to media coverage. Claiming they did not want to blame the principal or any teacher, Bharti said: Harshit only told her about the call.?Family evading authorities?However, Beniwal maintained that Harshit forwarded a copy of the offer letter to a teacher through WhatsApp. She has also forwarded messages exchanged between the teachers and Harshits family and the offer letter. The report will be made public on Thursday.\n",
      "\n",
      " 12. Only 26 malls and commercial centres on Mehrauli-Gurgaon (MG) road, Golf Course Road and Sohna Road will offer free parking in their basements, the Municipal Corporation of Gurugram (MCG) announced on Wednesday. Soon afterwards, 45 sites offered free parking but now some of the owners have agreed to pay the property tax instead of offering free parking service. As a result, the list has been trimmed to 26.\n",
      "\n",
      " 13. Scientists have modified human embryos to remove genetic mutations that cause heart failure in otherwise healthy young people in a landmark demonstration of the controversial procedure. The work focused on an inherited form of heart disease, but scientists believe the same approach could work for other conditions caused by single gene mutations, such as cystic fibrosis and certain kinds of breast cancer. Humans have two copies of every gene, but some diseases are caused by a mutation in only one of the copies. Today, people who carry certain genetic diseases can opt for IVF and have their embryos screened for harmful mutations. Its unclear when wed be allowed to move on. If all of this holds up for different genes and is also true when the mutation is inherited from the mother, it will be a major step forward, said Janet Rossant, senior scientist and chief of research emeritus at the Hospital for Sick Children in Toronto. Asked about the potential for gene editing to produce designer babies, Rossant, a co-author of the NAS report on gene editing, said it was a distant prospect. Even if we did, a genetic alteration that enhanced one trait could have unexpected negative consequences on other traits, and this would be an inherited feature for the next generation.?The NAS report came out strongly against any form of gene editing designed to simply enhance human potential, she added.\n",
      "\n",
      " 14. As many as 2,297 residential buildings under the CPWD in Delhi have been identified as unsafe, the Lok Sabha was informed on Wednesday. The number of unsafe or dangerous buildings under the New Delhi Municipal Council stands at 124, Union minister of state for home affairs Hansraj Gangaram Ahir said.\n",
      "\n",
      " 15. The Supreme Court on Thursday refused to stay the Election Commission decision allowing the NOTA provision in the August 8 Rajya Sabha polls in Gujarat. When it suited you, you did not come. Its a recipe for corruption. The Congress is apprehensive of cross voting and some MLAs exercising the NOTA option.\n",
      "\n",
      " 16. A 24-year-old Indian athlete has been indicted in the US on charges of sexually abusing a minor girl, days after he arrived from Kashmir for a snowshoe competition. ( Hussain had been arrested in March on charges of sexually abusing the minor girl, two days after he competed in the World Snowshoe Championships at Dewey Mountain Recreation Center.(Read | PU Chitra gets financial aid from Kerala government, CK Vineeth given job) Hussain is alleged to have subjected a 12-year-old female to sexual contact and engaged in inappropriate conversations with said child during the time he was in Saranac Lake, the report quoted Sprague as saying.\n",
      "\n",
      " 17. New Delhi, Aug 2 (PTI) Bomb squads and canine teams were today rushed in to check a suspect object that was recovered at the cargo hold area of the IGI airport here, later declared safe after it was found that the consignment only contained some auto spare parts. At 7.15 am, an X-ray image of a consignment of Maruti spare parts raised suspicion among the staff of the domestic cargo terminal, according to sources in the Bureau of Civil Aviation Security (BCAS).\n",
      "\n",
      " 18. Bihar Health Minister Mangal Pandey has defended a controversial questionnaire put out by Patna's Indira Gandhi Institute of Medical Sciences (IGIMS) for its staff. Speaking to India Today, the Deputy Medical Superintendent, Dr Manish Mandal said that the marriage declaration form with the contentious questions have been in practice ever since the institute was established in 1984.\"Everyone has to fill this form which is part of Central Services Rules and this form is similar to what AIIMS in Delhi uses. This is not a new form and has been in practice since 1984 when IGIMS was established,\" said Mandal.\n",
      "\n",
      " 19. A Norwegian anti-immigrant group has been roundly ridiculed after members apparently mistook a photograph of six empty bus seats posted on its Facebook page for a group of women wearing burqas. The comments suggested the vast majority of the anti-immigrant groups members saw the photo as evidence of the ongoing Islamification of Norway, although a small number pointed out it was in fact a picture of bus seats. Beyer told Nettavisen: Im shocked at how much hate and fake news is spread [on the Fedrelandet viktigst page]. So much hatred against empty bus seats certainly shows that prejudice wins out over wisdom. The ability to communicate is a basic value.\n",
      "\n",
      " 20. In a bizarre medical condition, a newborn baby in Thane was found to be pregnant with his half-formed twin brother feeding off his blood supply. A radiologist first spotted the abnormal mass during a routine scan of the pregnant mother. Photo Credit: Neena NichlaniGynecologist Dr Neena Nichlani, who was part of the team that operated on the baby, said, It is a case of monozygotic twin pregnancy sharing single placenta, where one foetus is wrapped around the other and feeds off its hosts body.\n",
      "\n",
      " 21. Dozens of street vendors will have to take their wares elsewhere as authorities in Delhi are gearing up to clear the perennial congestion near the neighbouring hospitals AIIMS and Safdarjung. Lieutenant governor Anil Baijal has directed the New Delhi Municipal Council (NDMC) chairman to take control of the Ring Road and Aurobindo Marg stretches from the Public Works Department (PWD). Every day, it is the same issue and one gets stuck in traffic for nearly 20 minutes. Moreover, most of the space on the road is occupied by private cabs. All unauthorised hawkers will be removed from the entire zone,\" Kumar added.\n",
      "\n",
      " 22. Over 400 farmers, including women, took to the streets in Dadri on Tuesday morning demanding the immediate release of 39 farmers who were arrested on Friday for stopping a passenger train and blocking movement on the Delhi-Howrah railway track for nearly an hour. The farmers held a meeting with the district magistrate of Gautam Budh Nagar, BN Singh, on Monday on the issue but could not arrive at a consensus. The district magistrate said, I have met the farmers and have agreed to release the arrested men on the condition that they provide an affidavit that they will not indulge in anti-social activities such as blocking rail routes or obstructing construction work at the expressway site.\n",
      "\n",
      " 23. Newly released data and photos show how shockingly low an Air Canada jet was when it pulled up to avoid crashing into planes waiting on a San Francisco international airport taxiway last month. Pilots in a United plane alerted air traffic controllers about the off-course jet, while the crew of a Philippine Airlines jet behind it switched on their planes landing lights in an apparent last-ditch danger signal to Air Canada. NTSB investigators said they have not determined probable cause for the incident that came within a few feet of becoming one of the worst disasters in aviation history.\n",
      "\n",
      " 24. Two people were killed when a light plane made an emergency landing on a beach near Lisbon, Portuguese authorities have said. The Portuguese newspaper Diário de Notícias reported that the Aerocondor aviation school in Cascais had confirmed the aircraft a Cessna CS?AVA was on a training flight with one student and one senior instructor, who had high experience and thousands of hours of flying time. The plane passed over the dead mans legs as he sunbathed on a towel, they said. This has been corrected to 12 miles.\n",
      "\n",
      " 25. The Saudi-led coalition fighting in Yemen is obstructing deliveries of jet fuel to UN planes bringing desperately-needed humanitarian aid to the rebel-held capital Sanaa, a UN official said Tuesday. The United Nations operates two humanitarian flights into Sanaa from Amman and Djibouti, but there is no jet fuel available in the Yemeni capital for the plane to make the return trip. I dont have an answer.\n",
      "\n",
      " 26. The US Air Force successfully launched an unarmed intercontinental ballistic missile from California, the fourth such test this year. Minuteman missiles are regularly tested with launches from Vandenberg that send unarmed re-entry vehicles 4,200 miles (6,800 kilometers) across the Pacific to a target area at Kwajalein Atoll.\n",
      "\n",
      " 27. The remains of a German hiker who disappeared while climbing in the Swiss Alps 30 years ago has been found embedded in a glacier, police said on Wednesday. The find was made on July 25 by two people climbing the Lagginhorn mountain, in southern Switzerland, police said in a statement.\n",
      "\n",
      " 28. Yesteryear superstar Dilip Kumar was rushed to Lilavati Hospital on Wednesday owing to kidney complications and dehydration. Kumar has acted in over 65 films in his career spanning over six decades and is known for his iconic roles in movies like Devdas (1955), Naya Daur (1957), Mughal-e-Azam (1960), Ganga Jamuna (1961), Kranti (1981), and Karma (1986).\n",
      "\n",
      " 29. The Mangrove Society of India (MSI) has put two of Mumbai regions mangroves   Airoli and Vikhroli wetlands among 12 unique mangrove forests in the country. Mangroves in?Vikhroli. We have to develop such spots for people to realise its importance. Tourism spots will not only help boost revenue but even their protection, said N Vasudevan, additional principal chief conservator of forest, Maharashtra state mangrove cell. They are accessible from Jamnagar by boats that travel 10km to reach these areas. Dr Salim Ali Mangrove Sanctuary, GoaEstablished in 1982, a 250-hectare mangrove patch at Chodan, located very close to Panjim, is home to 16 mangrove species, more than 100 birds and large intertidal fauna. The forests are famous for natural genetic cross breeding of the Rhizophora mangrove species. The Mahanadi estuarine in Odisha. Sunderbans Biosphere Reserve, West BengalSpread across a massive 1,40,000 ha land along the Ganges delta, the Sunderbans are the largest mangrove forests in the world between Bangladesh and West Bengal. It was declared a UNESCO World Heritage site in 1987.\n",
      "\n",
      " 30. Jammu and Kashmir police approached the Pakistan high commission in Delhi and asked them to claim the body of Lashkar-e-Taiba (LeT) divisional commander Abu Dujana, killed by the security forces on Tuesday. This is for the first time the authorities have approached Pakistan high commission asking them to claim the body of any Pakistani national killed in anti-militancy operations in Jammu and Kashmir.\n",
      "\n",
      " 31. Slain Lashkar-e-Taiba (LeT) commander Abu Dujana will be replaced by Abu Ismail. Attack in Anantnag appears to be a reprisal for killing of several Lashkar militants including Bashir Lashkari in an encounter with security forces earlier this month.\n",
      "\n",
      " 32. US President Donald Trump has called the White House a real dump, and said that he preferred staying at his own properties rather than at the executive mansion, a media report said. The hotelier-turned-POTUS reportedly told members of his Trump National Golf Course in Bedminster, New Jersey, that he preferred staying at his own properties rather than at 1600 Pennsylvania Ave NW, because the executive mansion is a real dump, the Washington Post reported, citing the article on Golf.com as saying.\n",
      "\n",
      " 33. A suspected British prankster appears to have conned White House officials including Anthony Scaramucci into replying to him after pretending in email correspondence to be several different members of the Trump team. The man, who goes by the Twitter handle @SINON_REBORN, posed as Jared Kushner well enough to convince homeland security adviser Tom Bossert to reply to him, according to CNN. It was later reported that Yates had warned the White House Flynn was vulnerable to Russian blackmail. The reverberations will be felt for some time yet. But it seemed Priebuss card had alway been marked, less over his initial blocking of Scaramucci, which enraged the Mooch, or by his closeness to the House speaker, Paul Ryan, than by his private advice to Trump to quit the presidential race after 8 October, when the infamous Access Hollywood Gropegate tape was published. I have nothing to apologize for. Particularly Othello. Im not trying to get the keys to the vault or anything like that.\n",
      "\n",
      " 34. A GP who practised in east London has been charged with 118 sexual offences. Manish Shah, of Brunel Close in Romford, is accused of 65 counts of assault by penetration and 52 allegations of sexual assault, the Metropolitan police said. Shah is registered as a doctor working with the national health service.\n",
      "\n",
      " 35. President Donald Trumps son-in-law says the Trump campaign couldnt have colluded with Russia because the team was too dysfunctional and disorganised to coordinate with a foreign government. A Democratic congressional aide says Kushner was responding to a question about Special Counsel Robert Muellers investigation into whether the Trump campaign colluded with Moscow.\n",
      "\n",
      " 36. A woman parliamentarian of Imran Khans Pakistan Tehreek-e-Insaf (PTI) has stirred up a major row by accusing the cricketer-turned-politician of sending her obscene text messages and harassing women leaders of the party. Addressing a news conference in Islamabad on Tuesday, Gulalai said the honour of women in the PTI is not safe because of 64-year-old Khan, whom she called a fake Pathan. Gulalai, who hails from the conservative South Waziristan tribal region and is the sister of leading squash player Maria Toorpakai, said Khan is a characterless person who considers himself an angel but his conduct is highly indecent. When I used to attend meetings, Imran Khan gave tips on how to ridicule rivals and target them, she said.\n",
      "\n",
      " 37. London, Aug 1 (PTI) Renowned Harry Potter author J K Rowling has apologised for wrongly accusing US President Donald Trump of refusing to shake the hand of a 3-year-old disabled child during an event. The 52-year-old British novelist, best known as the author of the Harry Potter fantasy series, said yesterday that she deleted her July 28 tweets after she was informed that they were \"not a full or accurate representation\" of what had happened at last Mondays health care event at the White House.\n",
      "\n",
      " 38. A recent study has found a substantial presence in the ultrafine particulate matter PM1, a dangerous pollutant, in Central Delhi. And no one knows how much of it is in the air we breathe. Globally, too, there might not be a standard but PM1 is considered the most dangerous among all particulate matter, particularly because of its size. It measures around 1 micron or less in diameter and can enter deep into the lungs and bloodstream.\n",
      "\n",
      " 39. The Ghaziabad police arrested three persons and lodged an FIR under sections of the IPC and Criminal Law Amendment Act against them. Also, 14 persons were booked for causing damage to public property. The FIR is lodged at Sahibabad police station and we have arrested three persons in this connection. There were some miscreants who resorted to violence but they were outsiders, said Harendra Kasana, district president of the Congress. However, the Haj House is caught up in litigation after three residents approached the National Green Tribunal and demanded its demolition, contending that the structure was built on land chunks of the Hindon floodplains.\n",
      "\n",
      " 40. A Republican senator said Tuesday that US President Donald Trump has told him he would go to war to destroy North Korea rather than allow it to develop a long-range nuclear-armed missile. World powers have been trying to stifle Pyongyangs weapons programme through United Nations-backed sanctions, but have failed to daunt the regime and Washington is growing frustrated. I prefer the diplomatic approach.\n",
      "\n",
      " 41. After accusing director Anees Bazme and his friend and associate Mayur Barot for non-payment of dues, comedian Sunil Pal is now planning to take legal action against both of them. About eight months back I was asked by Anees Bazmee and his friend Mayur Barot to perform at a family function (in Mumbai). And while Anees Bazmi got busy with his film, Mubarakan, Barot kept on telling me that they were getting a cheque drawn out for me. Now I am planning to take legal action against both of them. There was no discussion regarding remuneration. I just wanted to help Sunil, but it backfired, adds Barot. Follow @htshowbiz for more\n",
      "\n",
      " 42. The Daman and Diu administration on Wednesday withdrew a circular that asked women staff to tie rakhis on male colleagues after the order triggered a backlash from employees and was ripped apart on social media. The union territorys administration was forced to retreat within 24 hours of issuing the circular that made it compulsory for its staff to celebrate Rakshabandhan at workplace. In this connection, all offices/ departments shall remain open and celebrate the festival collectively at a suitable time wherein all the lady staff shall tie rakhis to their colleagues, the order, issued on August 1 by Gurpreet Singh, deputy secretary (personnel), had said. The circular is ridiculous.\n",
      "\n",
      " 43. The United States on Wednesday officially set September 1 as the start date for a ban prohibiting its citizens from travelling to North Korea. After his death, President Donald Trump said he was determined to prevent such tragedies from befalling innocent people at the hands of regimes that do not respect the rule of law or basic human decency.\n",
      "\n",
      " 44. New Delhi, Aug 1 (PTI) Finance Minister Arun Jaitley today said a \"proper decision\" would be taken on Air Indias future in a competitive market and that it would be in the governments interest to protect jobs at the airline. His remarks come at a time when a group of ministers headed by him is working on the modalities for the divestment of loss-making Air India.\n",
      "\n",
      " 45. The AA has fired its boss, Bob Mackenzie, for gross misconduct, with immediate effect, wiping nearly a fifth off the value of the company and making it the biggest faller in the FTSE 250. However, a statement attributed by the Times to Mackenzies son, Peter Mackenzie, said his father had a serious health issue and had resigned. The family trusts that all parties will act responsibly towards a loyal servant of the company in a manner which reflects the stress he has been suffering. His previous roles include chairman and chief executive of National Car Parks and its subsidiary Green Flag, a rival car breakdown business. In a trading update published alongside the announcement of Mackenzies departure, the AA said it was confident about the companys long-term prospects but its financial performance in the first half of 2017 had been hit by a number of factors. We now believe that the face-lift is largely complete.\n",
      "\n",
      " 46. Life OK, which is geared up to re-brand itself as Star Bharat is coming up with a unique reality show. Aparshakti Khurana, who was last seen in Super Night with Tubelight will host the show.\n",
      "\n",
      " 47. Naseeruddin Shah has watched the film Lipstick Under My Burkha, starring his wife Ratna Pathak Shah, twice. I dont know why the Censor Board had a problem with that, he quips. The CBFC letter informing the filmmakers that certification wouldnt be given had called the film lady-oriented, a perplexing word that drew much ridicule from filmmakers and actors. But then they claim to be someone who can do that.\n",
      "\n",
      " 48. Bollywood star Amitabh Bachchan, who is currently shooting for his upcoming film 102 Not Out, says sleeping on a films set is a gifted moment in the script for an actor. The 74-year-old actor is seen wearing a white kurta pyjama, socks and a monkey cap in the image. The two will be working together after over two decades.\n",
      "\n",
      " 49. After the video of a policeman hitting a man outside the passport office on Link Road in Ludhiana went viral, the commissioner of police, RN Dhoke, on Tuesday marked an inquiry to the assistant commissioner of police (ACP),  Atam Nagar, Naveen Kumar. In-charge at the Atam Nagar police post under whose jurisdiction the area falls, ASI Dharminder Kumar, however claimed that Gurdeep gave in writing, in the present of people, that he does not want any action on the cop.\n"
     ]
    }
   ],
   "source": [
    "bert_summarized_articles = []\n",
    "for i, article in enumerate(articles['ctext'][:50]):\n",
    "    result = model(article, min_length=20)\n",
    "    summary = \"\".join(result)\n",
    "    print(\"\\n \" + str(i) + \". \" + summary)\n",
    "    bert_summarized_articles.append(summary)"
   ]
  },
  {
   "cell_type": "code",
   "execution_count": 26,
   "metadata": {
    "state": "normal"
   },
   "outputs": [
    {
     "name": "stdout",
     "output_type": "stream",
     "text": [
      "\n",
      " 50. A session court in Mumbai convicted 15 Somali pirates for 7 years of imprisonment in a 2011 case. They also captured the 15 Somali pirates who jumped into the sea and took them into custody.\n",
      "\n",
      " 51. A teacher of a private school in Haridwar district has been accused of stripping two girls in front of the class for performing poorly in a test held for English subject, an allegation refuted by the school management. Whatever we have to say we have told the investigating police officer. District education officer (primary schools), Brahmpal Saini said that if such an incident had taken place, then it is quite shocking and a serious matter.\n",
      "\n",
      " 52. New Delhi, Aug 2 (PTI) Successive governments have \"short changed\" Air India by treating it like their private properties, TMC leader Dinesh Trivedi said today as he urged the Centre to review the decision to divest stake in the airline. \" Against this backdrop, Trivedi said it is evident that there is potential for further growth of Air India if the turnaround plan continues along with other rationalisation measures.\n",
      "\n",
      " 53. Allegations that British American Tobacco was involved in bribery and corruption in Africa are being investigated by the Serious Fraud Office, despite the cigarette companys attempts to downplay the significance of a whistleblower who handed over a dossier of evidence. When Hopkins handed over a large number of documents to the SFO in December 2015, BAT dismissed him as a rogue former employee. BAT said it continued to conduct its own inquiries into Hopkins charges. He has claimed he paid bribes on the companys behalf to the Kenya Revenue Authority for access to information that BAT could use against its Kenyan competitor Mastermind. BAT later dropped Linklaters and appointed Slaughter and May as sole adviser on the case. They need to go further and set the record straight. Deborah Arnott, the chief executive of the campaigning charity Ash, said: At the time the allegations of fraud in Africa were first made against BAT the company accused the whistle blower of having a vendetta against the company and peddling falsehoods.\n",
      "\n",
      " 54. Comedian and TVshow host Kapil Sharma has finally spoken on the rumours of his depression. In an interview to Dainik Bhaskar, Kapil cleared the air surrounding his ill health and said that he merely has blood pressure problems, not depression. I have started taking care of my diet and body. I am perfectly fine now, he said in the interview. This led to developing low blood pressure. Believe me or not, I get to hear such kind of news from the media people itself.\n",
      "\n",
      " 55. Shraddha Kapoors ambitious project Haseena Parker has been postponed again and the reason being cited is upcoming big releases in August. Now, in order to avoid a box office clash with Shah Rukh Khan and Akshay Kumars film, the makers have decided to push the release date for later. The decision to postpone the film was taken last week.\n",
      "\n",
      " 56. It took him five years and lot of courage to openly speak about his battle with drug addiction. His absence might not have caught anybody's attention, but his return has grabbed many eyeballs. When many actors shy away from talking about their issues, Prateik has come out in the open, talking about his his long battle with addiction. People still think I got hooked because it was 'cool' for a celebrity to indulge in recreational drugs. But for me, it was more of an escape from reality. My childhood was complicated and there were a lot of questions I didn't have answers to so I looked elsewhere for solace,\" said Prateik. Substance abuse is like a bad marriage, even after you quit, it haunts you for a while till people start noticing the turnaround.\n",
      "\n",
      " 57. The CBFC (Central Board of Film Certification) seems to have forgotten that their job is to certify, not censor. The Pahlaj Nihalani-led board ordered a whopping 48 cuts to the film, and when India Today Television reached out to him, he said, \"We are just doing our job. \"But this is not the worst of it. First, they told us that they were giving us an A certificate. And before I could speak up, a man in the committee said, 'But she is not a woman. If they are judging me by my clothes, I can imagine the parameters they must have used to pass my film. How is that my problem? He met Pahlaj Nihalani in private to discuss the directives, but the CBFC chief had a shocking response - \"You are lucky I'm not banning your film. \"Kushan said, \"When I argued that there are no grounds to do that, he retorted, 'What are these abuses?\n",
      "\n",
      " 58. Actor Sana Khan was up for a not-so-pleasant surprise on Tuesday, when a video of her hugging actor Salman Khan went viral for all the wrong reasons. There is always a wild side to an innocent face ? Im not a psychopath to hug somebody if the person doesnt want to talk to me. Im not someone who makes people stand and keep talking and falling on their lap. Lashing out at those who are calling it a forced hug, Sana retorts, Im not a psychopath to hug somebody if the person doesnt want to talk to me. Then] he complimented me that I look very nice. He has worked with all sexy and good-looking actresses, who would use bronzer from head to toe, so he knows that. We need to respect each others space and gestures.\n",
      "\n",
      " 59. Actor Dia Mirza, who was in Delhi to walk for designer Anju Modi at the India Couture Week 2017, has not just a lovely face but also a strong mind. In the earlier days, when I did get trolled, it really affected and frightened me. The 35-year-old actor was trolled  on social media  when she had tweeted and urged her fans to play a dry Holi. She had written: The irony of the times we live in: farmers commit suicide due to drought and people waste water to play #Holi. I reserve my opinion for things that truly matter to me. Dia will be seen next in the Sanjay Dutt biopic by Rajkumar Hirani; she plays the role of Maanyata, Dutts wife.\n",
      "\n",
      " 60. Comedian-actor Sunil Grover has stayed away from the limelight for almost five months now he quit The Kapil Sharma Show (TKSS) after a fight with Kapil on board an aircraft. Was there a change of heart about TKSS? Mere heart ko hua kya tha jo change hona tha? Why do I need someone else to sort things between us says Sunil. About the news of Kapil not keeping well, owing to the dipping TRPs of his show, Sunil says, I heard about this, and I can only say that he should take good care of himself.\n",
      "\n",
      " 61. Indian authorities have removed a copy of the Bible and the Quran from a new statue of a former president after a complaint by a Hindu nationalist party, officials said Tuesday. The sculpted Hindu Bhagvad Gita book was placed next to the statue before it was inaugurated by Prime Minister Narendra Modi last week on the second anniversary of Kalams death. Relatives placed the Bible and the Quran next to the Gita in protest.\n",
      "\n",
      " 62. A 25-year-old man was battling for life on Wednesday after he was assaulted by a mob which allegedly found him in a compromising position with a woman at a government-run centre in Jharkhands Bokaro town, police said. The man, identified as Sakib Ansari, was unconscious when police rescued him from the mob comprising 50-odd men. He was yet to regain consciousness, doctors said. In April, a 25-year-old man was beaten to death in Saraikela Kharsawan for allegedly raping a five-year-old girl.\n",
      "\n",
      " 63. In a ridiculous step, the Indira Gandhi Institute of Medical Sciences (IGIMS) in Patna has asked its employees to declare whether they are virgin. Speaking to India Today, the Deputy Medical Superintendent, Dr Manish Mandal said that the marriage declaration form with the contentious questions have been in practice ever since the institute was established in 1984.\"Everyone has to fill this form which is part of Central Services Rules and this form is similar to what AIIMS in Delhi uses. That would have been sober but what is there in the rules have to be followed,\" said Dr Mandal.\n",
      "\n",
      " 64. The eight entry points of the citys most popular beach are all set to get a facelift. Steps and railings will make the beach accessible for senior citizens, said an official. Natural spaces should not be tampered with. Zahida Banatwala of the Juhu Citizens' Welfare Group (JCWG) said, Every monsoon, the access points get damaged.\n",
      "\n",
      " 65. It was last week that Kriti Sanon posted a video where she is dancing to a song from Mubarakan. Adding her voice to the chorus was actor Bhairavi Goswami who last appeared in Hate Story. Taking to Twitter, Bhairavi wrote, she is really behaving like a deranged woman.\n",
      "\n",
      " 66. Tom Hiddleston is to star in a Kenneth Branagh-directed production of Hamlet but for only three weeks in a theatre with 160 seats. The production will raise money for the Royal Academy of Dramatic Art (Rada) and promises to be one of the hottest theatrical tickets of recent years. The ballot opens at noon on Tuesday 1 August and tickets will be difficult for people to get their hands on. Hiddleston, a Rada graduate, said Hamlet presented almost limitless possibilities for interpretation. A further 20% will be £45 and the remainder £95.\n",
      "\n",
      " 67. Sheikhs from Egypts highest Islamic authority have opened a fatwa kiosk in the Cairo metro to offer religious advice to commuters in what they say is an effort to counter extremism. The institution has frequently clashed with the government of the president, Abdel-Fatah al-Sisi, who has repeatedly called for a religious reformation in Islam to combat extremism. Yet few seemed convinced that the project would attract those with pre-existing extremist tendencies to seek guidance, especially as those staffing the booth noted down the identity card number of those visiting along with their complaints. The whole project is absurd. They are doing this to evade making any real changes.\n",
      "\n",
      " 68. Prime Minister Narendra Modi, his fans and followers say, is a tireless man, working deep into the night without keeping track of time. Among the gifts received by Modi between January and March are a model of the fabled Shabi housing model of the United Arab Emirates, a decorative sculpture with Argillite carving and a Mont Blanc ballpoint pen. Officials said ministers and officials rarely take home very expensive gifts home. According to the records at the toshakhana, in the past Modi took two dinner sets worth Rs 10,000 and a carpet worth Rs 15000, after paying the excess amounts.\n",
      "\n",
      " 69. The Brihanmumbai Electric Supply and Transport (BEST) is planning to shift its iconic museum from the Anik Bus Depot at Wadala to Byculla zoo. The Anik bus depot museum is far away, and people have often complained they dont visit as the travel is a pain.\n",
      "\n",
      " 70. Priyanka Chopra shared a picture of herself with Bryan Adams on Wednesday from a special photoshoot. Was so good to see you again @bryanadams happy to be a part of such an amazing project #heartheworldfoundation ? @_dkatpc) on Aug 1, 2017 at 1:09pm PDT  A post shared by PriyankaChopraGR (@priyankagreek) on Aug 1, 2017 at 8:18pm PDTThe film also stars Rebel Wilson, Liam Hemsworth and Adam DeVine. Priyanka plays a yoga ambassador while Liam stars as Blake, a handsome client with Adam as Wilsons earnest best friend, Josh.\n",
      "\n",
      " 71. Tax officials raided on Wednesday multiple properties linked to DK Shivakumar, a top minister in Karnataka who is hosting a group of party legislators from Gujarat to avoid a break in their ranks ahead of a close Rajya Sabha election. Tax officers raided 64 places in Delhi and Karnataka linked to energy minister Shivakumar as part of investigations into his alleged tax evasion and dodgy investments in real estate. More defections can jeopardise Patels chances of re-election. Ashok Gehlot, Congress? The timing is important and significant. Ahmed Patel (@ahmedpatel) August 2, 2017Read more | Congress parades 44 Gujarat MLAs, says BJP tried to bribe them ahead of Rajya Sabha pollsCongresss leader in Rajya Sabha Ghulam Nabi Azad asked why the raids were taking place today and not a month later or before.\n",
      "\n",
      " 72. Whether it is nepotism, feminism or sexism, actor Swara Bhaskar  has never held back from expressing her views on sensitive subjects. While most actors in Bollywood are acquainted with the prevalence of pay disparity in Bollywood, very few actually muster the courage to come out and talk about it. Although Swara agrees that things are slowly changing, she adds that there will be more progress only when female actors start being a little more assertive. Follow @htshowbiz for more\n",
      "\n",
      " 73. Bollywood actor Ali Fazal is certainly going places with his upcoming film alongside Judi Dench - Victoria and Abdul. Also, it will be one of the first films to be shot inside the former royal residence so thats one more feather added to the cap of the films achievement. All the costumes worn by Judi and Ali will be on display at the museum site of inside the house. Follow @htshowbiz for more\n",
      "\n",
      " 74. Even after two and a half decades in Bollywood, Shah Rukh Khan continues to make women go weak in the knees just by flashing his dimpled smile. Gauri (Khan, Shah Rukh's wife) was also with him and everybody was trying to deal with this crazy fan. He was dealing with her like how one would deal with a scarf.\n",
      "\n",
      " 75. The Uttar Pradesh cabinet on Tuesday approved a proposal to make registration of marriages compulsory for every resident of the state, regardless of religion or community. Chief minister Yogi Adityanath presided over a cabinet meeting to adopt the Uttar Pradesh Marriage Registration Rules-2017, which stipulates compulsory registration of marital alliances and lays down penalties for any delay in this regard. Though the fines are not particularly hefty Rs 10 for delay up to a year and Rs 50 beyond that period it is liable to increase over time.\n",
      "\n",
      " 76. The National Green Tribunal (NGT) has asked the Delhi and Uttar Pradesh governments to remove debris on the floodplains of  the Yamuna. The green court said work to rejuvenate the Yamuna should not be stopped unnecessarily as pollution was rising daily and any inaction on part of authorities cannot be tolerated. The tribunal reconstituted the principal committee, formed to see the execution of the cleaning of the Yamuna, and included Shashi Shekhar, former secretary of ministry of water resources, as a special invitee.\n",
      "\n",
      " 77. Usain Bolt has issued a stark warning to his fellow athletes that they must stop doping otherwise track and field will die. I dont think it gets any worse than that, he said, referring to the problems in Russia which he agreed had left the sport at rock bottom. But its on its way back up now. Bolt has raced only three times this season, and last month appeared to be struggling with a back injury, but he insisted he was still the man to beat in the 100m, the qualifying rounds for which start on Friday. When I go out there I am fully confident and ready to go 100%. It is all about who can keep their nerves. My coach gave me my space, he gave me my time to get over it.\n",
      "\n",
      " 78. A minor fire broke out in the basement of former Delhi chief minister Sheila Dikshits house in central Delhis Nizamuddin East on Wednesday morning. The official said that the fire was minor and put off without incident.\n",
      "\n",
      " 79. A woman in Keralas Kochi bit off the tongue of a neighbour on Monday night when he allegedly tried to molest her, police said. The man had told hospital authorities that he injured his tongue in a bike accident and was arrested after the surgery was over and he was discharged. Doctors at the hospital said as he received serious injuries on the tongue, his speech will be slightly impaired.\n",
      "\n",
      " 80. A 15-year-old girl was found to be seven-month pregnant after two of her cousins allegedly raped her several times. The victim then narrated her ordeal to her mother. Doctors at the Rohtak civil hospital have ruled out abortion at this stage, maintaining that it could be life-threatening to the minor girl.\n",
      "\n",
      " 81. Bollywood actor-model Koena Mitra has registered a case of sexual harassment against a stranger in Mumbai. Talking about the harrowing experience, she said, From July 24, I started getting calls from random numbers, many among them being Mumbai numbers too. I was tired of answering the calls. A day later, he called again and I fired him and he abused me in Marathi. Follow @htshowbiz for more\n",
      "\n",
      " 82. Twentytwo  of the 29 ministers in the newly-appointed Nitish Kumar cabinet in Bihar face criminal cases against them. Many other ministers face cases of dacoity, theft, fraud and atrocities against them. Water resources and planning minister and JD(U) legislator from Munger, Rajiv Ranjan Singh, has properties worth Rs 5 crore.\n",
      "\n",
      " 83. In a first, a Delhi University college is starting a crèche for its teaching and non-teaching staff, who have to juggle between work and taking care of their young children. Teachers can bring their children to the crèche, which will be functional between 9am to 5pm. As a young teacher, I was constantly worried about my kids. Now I can take my classes without having to worry about my child as I can check on him in the crèche in between classes and breastfeed him, she said.\n",
      "\n",
      " 84. If you drive a car in Delhi and its suburbs then bad and crowded roads are burning a big hole in your pocket. The study, commissioned in May, released its preliminary findings last week involving a Sports Utility Vehicle with a mileage of 10 -12 km/litre. Subsequent tests will be conducted with small cars and loaded and empty trucks. The initial findings of the study conducted on two road stretches in Delhi have revealed that Delhiites could be consuming at least two-to-three times more fuel because of bad quality roads and traffic conditions, said Ravindra Kumar, principal scientist of CRRIs transport and planning division.\n",
      "\n",
      " 85. Two new venues, Thiruvananthapuram in Kerala and Barsapara in Assam are in contention to host Test matches during the home series against Sri Lanka as Indian cricket team is set to play a record 23 international matches at home between September and December. After that, Virat Kohli and his men fly down to South Africa.(Read | Cheteshwar Pujara: Dale Steyn, Morne Morkel reality check strengthened resolve) There are 23 International matches at home. Barsapara in Assam and Greenfield International Stadium in Thiruvananthapuram have got Test status. There are possibilities that a couple of centres may get more than a match.\n",
      "\n",
      " 86. Who doesn't want to work for a reputed firm like Google? Google hires a class 12 boy from Chandigarh, named Harshit Sharma. Update: The India Today Tech has learned that the reports of Google hiring a school student and at a salary of Rs 12 lakh per month are false. It was his dream company and he never imagined to fulfill it so soon, he says.\n",
      "\n",
      " 87. A woman teacher in Odishas Sambalpur district on Tuesday placed under suspension on charge of getting herself massaged by a girl student in the school. Meher, who is also in-charge headmistress of the school, admitted that a girl student had massaged her head. The girl, who massaged my head on that day, has already passed out from the school and therefore was not available for comment.\n",
      "\n",
      " 88. Scores of easyJet passengers were stranded on the Greek island of Zakynthos (also known as Zante) after their plane developed technical difficulties and a replacement aircraft was prevented from flying in because of mating turtles. Passengers expressed fury at easyJets lack of communication and incredibly bad handling of the delay, which began on Sunday afternoon. Some travellers, who did not book on to other flights, were only able to make it home on Tuesday. The group has recorded 500 nests on the island so far, but that is fewer than in previous years. A spokesman said: Unfortunately easyJet was unable to operate flight EZY8746 from Zante to London Gatwick on Sunday 30 July due to a technical fault with the aircraft and had to delay the flight overnight.\n",
      "\n",
      " 89. Bollywood actor Sushant Singh Rajput is all set to get special training at NASA (National Aeronautics and Space Administration) for his upcoming film, Chanda Mama Door Ke, where he plays an astronaut. Sushant Singh Rajput to undergo special training at NASA's Space & Rocket Center... Enacts the part of an astronaut in #ChandaMamaDoorKe... pic.twitter.com/W4b9BYELCE taran adarsh (@taran_adarsh) August 2, 2017Sushant visited the NASA centre in the US in July to prepare for the space adventure to experience zero gravity. From a miniature Rocket to a life size one , this grown up kid will never cease to Dream. pic.twitter.com/9z4pI61PRF? Follow @htshowbiz for more\n",
      "\n",
      " 90. New Delhi, Aug 1 (PTI) A Sri Lankan national has been apprehended at the Delhi airport for entering a terminal allegedly using a fake ticket, officials said today. He told the CISF personnel that he had come to see off his mother, who was travelling to Colombo from the Indira Gandhi International Airport (IGIA), the official said.\n",
      "\n",
      " 91. Twenty people, including six female employees of a multi-national company, went through a harrowing time on Saturday after being stuck in an elevator at Sector 53s South Point Mall for close to 90 minutes. A police team soon reached the spot and after assessing the situation broke a glass on the backside of the elevator, cracked open the glass wall of the lift and rescue the people. The police then used a ladder to get people out of the lift. He was rushed to a private hospital with cardiac and respiratory seizure where he died on April 11.\n",
      "\n",
      " 92. Inordinate delay of a SpiceJet flight SG 143 resulted in a face-off between passengers and the airline crew on Tuesday. The face-off between the passengers and the crew ensued after the flight failed to depart even after the said timing.\n",
      "\n",
      " 93. A 25-year-old post-graduate youth, who felt humiliated by a panchayat diktat asking him to drink a girls urine for allegedly raping her, claimed his life, police said. The incident happened over a week ago in a remote village of Targain in Budhal tehsil of Rajouri district, 150 km northwest of Jammu. He, however, informed that none of the two families ever approached police. The officer said that the Hussains body was recovered from the lake on Sunday after it was spotted floating by some shepherds in the upper reaches of Budhal.\n",
      "\n",
      " 94. The Maharashtra government on Tuesday admitted that adopting online assessment system  by the University of Mumbai (MU) for evaluating answer papers delayed declaration of results. It is a serious issue. Fadnavis said the online assessment system is the need of the hour and has been adopted worldwide. Mark sheets of students, who wish to pursue higher education abroad, will be made available by August 15, Fadnavis said.\n",
      "\n",
      " 95. New Delhi, Aug 1 (PTI) Shops at the domestic terminal of Delhi airport have been relocated to provide additional space for seamless passenger movement, the government said today. A Public Accounts Committee headed by Congress leader K V Thomas had in its draft report indicted the Delhi airport operator about shrinkage of space for passengers because of restaurants, retail outlets, duty-free complexes and executive lounges.\n",
      "\n",
      " 96. Facing pressure from President Donald Trump to cut the cost of new Air Force One aircraft, the US Air Force is negotiating with Boeing to purchase two 747-8 jetliners that were built for a Russian airline that went bankrupt before they were delivered. Were working through the final stages of coordination to purchase two commercial 747-8 aircraft and expect to award a contract soon, said Air Force spokeswoman Ann Stefanek, who declined to elaborate on the details. The two aircraft were initially ordered four years ago by Transaero, a Russian airline that went bankrupt in 2015, a person familiar with the talks told Reuters. Donald J. Trump (@realDonaldTrump) December 6, 2016Boeing Chief Executive Officer Dennis Muilenburg called Trump and told him the cost could be reduced if the Air Force changed its requirements, sources familiar with the conversation said at the time.\n",
      "\n",
      " 97. Allahabad, Aug 01 (PTI) The Allahabad High Court today said it would hear afresh the appeals filed by Rajesh and Nupur Talwar challenging their conviction in the murder of their daughter Aarushi and domestic help Hemraj, seven months after reserving its judgement in the matter. A division bench comprising Justices Bala Krishna Narayana and Arvind Kumar Mishra said it would hear the matter again due to \"contradictions\" in some submissions made by the CBI in the sensational murder case and fixed August 31 for resuming the hearing.\n",
      "\n",
      " 98. Motorman Mahendra Prasad called up the railway police control room on Sunday and informed officials that a 15-year-old boy and 25-year-old youth had fallen from a train and were found injured on the tracks between Lower Parel and Elphinston stations. In the past six months, around 1,590 people have been killed while travelling on trains 676 died after falling off trains. According to the railway data, 348 people died on the Central line while 323 persons died after falling off trains on the Western line this year till June.\n",
      "\n",
      " 99. Bored in confines of a sprawling resort in Bengaluru, the Congress flock of 44 MLAs is a frustrated lot now. Following strict orders of the Karnataka Power Minister DK Shivakumar, the MLAs are not allowed to venture out in the city.\n"
     ]
    }
   ],
   "source": [
    "for i, article in enumerate(articles['ctext'][50:100], 50):\n",
    "    result = model(article, min_length=20)\n",
    "    summary = \"\".join(result)\n",
    "    print(\"\\n \" + str(i) + \". \" + summary)\n",
    "    bert_summarized_articles.append(summary)"
   ]
  },
  {
   "cell_type": "code",
   "execution_count": 27,
   "metadata": {
    "state": "normal"
   },
   "outputs": [
    {
     "name": "stdout",
     "output_type": "stream",
     "text": [
      "\n",
      " 100. There is only a 5% chance that the Earth will avoid warming by at least 2C come the end of the century, according to new research that paints a sobering picture of the international effort to stem dangerous climate change. Global trends in the economy, emissions and population growth make it extremely unlikely that the planet will remain below the 2C threshold set out in the Paris climate agreement in 2015, the study states. The public should be very concerned. It negates the most optimistic outcome as well as the worst case, which would see temperatures climb nearly 6C beyond the pre-industrial era. Even if the 2C target isnt met, action is very important, said Raftery. But this research gives a false sense of rigor. If you look at technology adoption and action taken on the ozone layer and acid rain, its clear these things can change faster than people predict. Its like youre driving and about to collide with the car in front of you, he said.\n",
      "\n",
      " 101. After a swarm of bees held up a Hyderabad-Pune flight last week for more than one hour, the country aviation regulator said it will investigate how a bee hive was allowed to flourish in the airport area. Air India spokesperson, Dhananjay Kumar, confirmed the incident and said that taking safety as priority, the pilot took necessary precautions before taking off the flight. The incident took place when the flight was to line up for its scheduled take off.\n",
      "\n",
      " 102. New Delhi, Aug 1 (PTI) Flight Lt Shikha Pandey, a member of the Indian womens cricket team, was today felicitated by Indian Air Force chief BS Dhanoa for her sterling performance at the recent World Cup. Pandey was awarded the chief of the air staff commendation by Air Chief Marshal Dhanoa for her performance at the recently concluded ICC Women World Cup, the IAF said.\n",
      "\n",
      " 103. The Raghubar Das government in Jharkhand on Tuesday cleared the draft of an anti-conversion bill which discourages conversion to another religion through force or allurement even as opposition, religious groups and tribal activists criticised the move. Chief minister Das has voiced his concerns over the conversion of tribals through force or allurement on several occasions, and asked gullible tribals to protect their culture and religious practices at any cost. It wants to divide the tribals to further their political agenda in preparations for the next election, said Prem Chand Murmu, president of Adivasi Budhijivi Manch (ABM). Conversion is an individual choice. When one converts, his religion changes, not his caste. We will protest the legislation, he said.\n",
      "\n",
      " 104. The government has no accurate data regarding illegal migrants who have entered India, the Lok Sabha was informed on Tuesday. Minister of state for home Kiren Rijiju also said that any particular community cannot be branded for having alleged links with terrorists and terrorism. He agreed that several illegal migrants have acquired documents to make their stay in the country legal.\n",
      "\n",
      " 105. Protesting against the forcible acquisition of farm land for the Delhi-Mumbai Industrial Corridor (DMIC), farm activists plan to go on an indefinite fast from August 1 in Raigad district under the banner of Corridor Virodhi Shetkari Sangharsh Samiti and Jagatikaran Virodhi Kruti Samiti. DMIC officials maintain they are not planning forcible acquisition of land and a majority of the land for the phase one of the project has been acquired through negotiations.\n",
      "\n",
      " 106. Bihar deputy chief minister Sushil Modi on Tuesday alleged that he would soon come out with documentary proof of sand mafia funding the RJD and investing in Lalu Prasads family assets. Sand mafia fund political parties...sand mafia are the main source of RJDs funding... I would soon hold a press conference to make a big expose on Lalu Prasads family links with those big guns involved in sand mining, Modi told reporters in Patna. We (govt) will see as what action has been initiated in the case.\n",
      "\n",
      " 107. Director Hansal Mehta has trashed all speculation around the Kangana Ranaut-starrer Simran, saying that they are \"false, malicious and totally fabricated\". All this speculation is false, malicious and totally fabricated. Co-producer Bhushan Kumar said he is saddened by the reports as they put the film in a negative light. \" At the end, the film is a director's vision and the film campaign will stay close to that only,\" Kumar said.\n",
      "\n",
      " 108. (Eds: Updating with fresh quotes) By K J M Varma Beijing, Aug 1 (PTI) China will never seek \"aggression or expansion\" but will not allow anyone to \"split its territory\", President Xi Jinping asserted today as he lauded the Armys strong resolve to protect the countrys sovereignty and defeat \"all invasions\" amid territorial disputes with its neighbours. \" Though there was no direct reference to the Sikkim standoff, Xi urged the PLA to focus on war preparedness to forge an elite and powerful force that is always \"ready for the fight, capable of combat and sure to win\". \" Xi, also general secretary of the Communist Party of China Central Committee and chairman of the Central Military Commission, made the remarks at the ceremony to mark the 90th founding anniversary of the 2.3 million strong PLA, the worlds largest standing army. The Chinese people love peace.\n",
      "\n",
      " 109. Apart from Chief Minister Devendra Fadnavis, not a single minister has a 100% attendance record for the cabinet meetings that were  held from July 2016 to May 2017. As per the states reply to a Right to Information (RTI) application filed by activist Anil Galgali, of the 35 cabinet meetings held in the past 11 months, Fundkar has missed 11. I sought the CMs permission to remain absent for these meetings. While Badole, Munde and Nilangekar skipped eight meetings.\n",
      "\n",
      " 110. Russian President Vladimir Putin has signed a law that prohibits technology that provides access to websites banned in the country, the governments website said. Leonid Levin, the head of the Dumas information policy committee, has said the law is not intended to impose restrictions on law-abiding citizens but is meant only to block access to unlawful content, RIA news agency said.\n",
      "\n",
      " 111. Punjabi rapper-singer SukhEs career is on a roll. Two years after delivering the hit song, Jaguar, with rapper Bohemia, he feels that the car brand  owners should have paid him for promoting them. Punjabi songs ki wajah se promotion hoti hai films ki, and thus contribute to making it a hit.\n",
      "\n",
      " 112. The Opposition slammed the Bharatiya Janata Party (BJP)-led Maharashtra government for mentioning the names of former Congress Prime Ministers Indira Gandhi and Rajiv Gandhi in state board history textbooks in reference to the Emergency and Bofors scam, respectively. This is the state governments attempt to drive political influence and will not be tolerated. Legislators from the Congress as well as the Nationalist Congress Party (NCP) supported the demand, saying there is little description of all significant achievements of Congress and NCP leaders in the textbooks.\n",
      "\n",
      " 113. The BJP-led Goa government on Tuesday told the state legislative assembly that strict action would be taken against the people found drinking on the state beaches, and if need be, they could even be arrested. We will be amending the Tourist Trade Act, giving more powers... I have asked the tourist guards to be on the vigil against the sale of drugs. No one will be allowed to take law into their hands, he said. Meanwhile, replying to another question, the state on Tuesday refused to withdraw the contract signed with the lifeguard agency to man the beaches, claiming that the government could not run such services. The opposition legislators, including Jeniffer Monserratte and Aleixo Reginaldo Lourenco, demanded that since there were majority Goans working as a lifeguard, the services should be given to any state-level company.\n",
      "\n",
      " 114. Delhi Police special cell on Saturday arrested a woman in connection with an arms trafficking racket and recovered 14 semi-automatic sophisticated pistols of 7.65mm with 14 magazines from her possession. The recovered weapons are engraved with Made in England and Made in USA markings. Last Wednesday, we received an information that one woman supplier of illegal arms, who is also a proclaimed offender, would come near Shastri Park, between 6pm and 7pm to deliver a huge cache of semi-automatic weapons and meet her contacts, Kushwah said. She started waiting there for someone.\n",
      "\n",
      " 115. Serena Williams, one of the highest paid and most successful athletes in the world, has issued a stirring call for black women to demand equal pay and spoken about the racism she has faced on and off the tennis court. Ive been disrespected by my male colleagues and in the most painful times Ive been the subject of racist remarks on and off the tennis court, she wrote. In April the Romanian team captain, Ilie Nastase, made an apparently racist comment about Williamss unborn baby and was heard calling her and Johanna Konta fucking bitches. pic.twitter.com/XOHyIdbYPcNoting that she is in the rare position to be financially successful beyond my imagination, Williams said that, if she had not been lucky enough to pick up a tennis racquet and break through, she would be like the other 24 million black women facing wage disparities in the US. Black women: be fearless. Despite the large gender disadvantage faced by all women, black women were near parity with white women in 1979, the Economic Policy Institute said. The trend is going the wrong way progress is slowing for black women. And if not, I would really want her to speak up for it.\n",
      "\n",
      " 116. New Delhi, Aug 1 (PTI) Diversified conglomerate ITC today said Ashok Malik, who has been appointed the press secretary of the President of India, has resigned from its board of directors. \" Ashok Malik resigned from the board of directors of the company with effect from close of work on July 31, 2017, consequent on his appointment as press secretary to the President of India,\" the company said.\n",
      "\n",
      " 117. Playwright, director and actor Sam Shepard has died at the age of 73. American art was starving. As an actor, his first notable role was in Terrence Malicks Days of Heaven in 1978. When asked about his performances on stage, he said he wasnt quite as comfortable as on screen. Well, thats not entirely true. He is survived by three children. Writer Beau Willimon referred to him as fearless and one of the greats, Harlan Coben tweeted: How special was he?\n",
      "\n",
      " 118. Leading digital payments firm Paytm plans to launch a messaging service to rival Facebook Incs WhatsApp by the end of August, a source familiar with the matter said on Tuesday. SoftBank and Alibaba-backed Paytm is seeking to attract people in India to use the new messaging service embedded in its app, which many already use to buy everything from food to plane tickets. E-payments in India surged after the country banned old high-value currency notes late last year.\n",
      "\n",
      " 119. A united opposition stalled proceedings in the Rajya Sabha on Tuesday, protesting the governments decision to hike the prices of domestic cooking gas (LPG) by Rs 4 per cylinder every month to eliminate all subsidies by next March. The issue was raised by TMCs Derek O?Brien who gave a notice under rule 267 that seeks to set aside business of the day to discuss an important issue. The Opposition in Rajya Sabha also protested and questioned the NOTA provision for the upcoming election to the house. We discussed the lynchings yesterday. Everyone in the Opposition agrees it is terrible. Motion is passed.2:02pm:  Rajya Sabha reconvenes. There are allegations the government is using its money power, he says.12:41 pm:  Outside the Parliament, Dharmendra Pradhan says, Subsidy will not be cut down, it will only be rationalised. Prices increased in July. Chair asks him to take it up with Election Commission. They are coming there and getting concentrated there, he says. Mallikarjun Kharge questions the governments response that no accurate date is available about number of illegal immigrants in the country. Ghulam Nabi Azad on governments rollback of LPG subsidy: This government is killing the poor. Chair PJ Kurien takes note and says Secretary General of the Rajya Sabha has already written to the Lok Sabha regarding this impropriety.11:05 am: Question Hour begins in Lok Sabha.\n",
      "\n",
      " 120. West Bengal chief minister Mamata Banerjee on Tuesday said she will never support the division of the state and urged all political parties in the hills to restore peace and normal life in Darjeeling, where the indefinite shutdown entered its 48th day. Whatever happens, everyone should remember that I am ready to give up my life but I will never support dividing (the state) into parts. Every district is our asset. The chief minister said that she would do everything for the development of Darjeeling but not anything which may lead to a riot or create disturbance among the people. I want the hills to get back to normal life. People are troubled and you (GJM) are continuing with the movement only for the sake of politics.\n",
      "\n",
      " 121. Virat Kohlis ascendancy since becoming the India Test captain in 2014 has been startling. His time at the helm of India also saw them claiming the No. But then Kohli has also got a great start to his career as captain. Dhoni won 27 out of 60 Tests as captain, with the win percentage being 45. Dhoni all-time greatest?Shastri, however, added that based on current record Dhoni is Indias all-time greatest captain.(Read | Khaled Mahmud, ex-Bangladesh skipper, suffers stroke; to be taken to Singapore) The guy has won two world titles - a World Cup and a World T20. Virat is progressing in the same direction as well.\n",
      "\n",
      " 122. China's number one boxer and WBO Oriental Super Middleweight Champion Zulpikar Maimaitali has hit back at Vijender Singh ahead of Asia's biggest showdown 'Battleground Asia', saying he will show the Indian knockout king what \"Chinese are capable of\". Replying to Vijender's comments Maimaitiali said, \"I will show Vijender what Chinese are capable of. I am coming to your home Vijender on 5th August and will take back your belt along with mine.\n",
      "\n",
      " 123. A minister of the Devendra Fadnavis-led BJP government has been accused of rape. Senior NCP leader Ajit Pawar demanded a probe into the allegations made by a woman from Sangli district against the minister, who is not from BJP, but from one of the partys smaller allies. She had a dispute with a person named Prashant Jadhav and was under the impression that the minister was helping Jadhav against her. Whatever I gave in writing was due to tremendous pressure.\n",
      "\n",
      " 124. A 40-year-old woman was stabbed outside the Thyagraj Stadium in south Delhi on Monday evening even as her four-year-old son watched. Her attacker, however, fled the spot leaving behind the kitchen knife used in the murder. Investigating officials said a CCTV camera at the stadium has recorded the stabbing.\n",
      "\n",
      " 125. A day after Bihar chief minister Nitish Kumar accused long-time ally Lalu Prasad of being smothered in corruption, the Rashtriya Janata Dal (RJD) chief hit back on Tuesday, asserting that his friend-turned-foe was a turncoat and he (Nitish Kumar) is known for his dubious character. Further lashing out at Nitish Kumar, Lalu Prasad said that only because of Mulayam Singh, he allowed the chief minister in his alliance. Yesterday (Monday) when he accused me and my family; I knew it was coming. He has also forgotten the day when I made him rule the state and join my alliance with open arms. This comes as a shock to me! Meanwhile, Lalu Prasad has invited Janata Dal (United) leader Sharad Yadav to lead the fight against the BJP and Nitish Kumar, who, according to him, joined hands with communal and fascist forces and betrayed the peoples mandate.\n",
      "\n",
      " 126. Two Chinese nationals, on Monday, managed to replace a piece of diamond jewellery with a fake one at Mumbais India International Jewellery Show. On July 31, at 3:45 pm, Gem Jewellery Export Promotion Council (GJEPC) informed us that two Chinese nationals, while trying to strike a deal, cleverly switched and replaced a diamond piece weighing 5.4 carats, approximately costing Rs34 lakhs, with a fake piece, said a CISF official. Subsequently, their movements were traced through CCTV footage, wherein it was revealed that the two Chinese nationals had already left the show.\n",
      "\n",
      " 127. A train ticket examiner (TTE) was allegedly stabbed by three unidentified men who were asked to deboard the train as they were travelling without tickets in the reserved compartment. They had boarded a reserved coach of the train. Initially, I did not realise that I was injured. The guard alerted the authorities and the train was stopped at Ghaziabad. The victim said that officers from GRP and the railway protection force of New Delhi came to Ghaziabad and registered his complaint.\n",
      "\n",
      " 128. Police resorted to lathicharge as nearly 500 protesters, gathered at the newly constructed Haj House in Ghaziabad, turned violent and pelted stones at the cops. The Haj House was developed to facilitate the pilgrims. We told the protesters that the facility has not been locked by the district administration and they have no role in opening or closing it, said Akash Tomar, superintendent of police (city). In the report, UP minister of state for Waqf, Mohsin Raza, had said that the decision was taken by the previous state government and the present government has maintained the status quo. The decision was taken to protect the environment and the rivers ecology. If thousands of pilgrims arrive here it is bound to create garbage issues for the river zone.\n",
      "\n",
      " 129. The Canadian government is investigating reports that Saudi Arabia is using armoured vehicles made in Canada against its own civilians allegations that have prompted renewed scrutiny over Ottawas recent decision to sign off on a billion-dollar arms deal with the kingdom. Canadian officials said they were deeply concerned by the reports. Terradyne Armoured Vehicles did not respond to a request for comment. Critics say the C$15bn deal, struck in 2014 by the previous conservative government, could see the vehicles which are equipped with machine guns used by the Saudis to crush dissent at home. In 2015, Sweden cancelled a longstanding defence agreement with the Saudis, citing similar concerns. Mounting tensions and conflict in eastern Saudi Arabia, about which the Canadian government has rightly expressed public concern, further indicate how fraught it is for Canada to have authorised the sale of light armoured vehicles to Saudi Arabia at this time, secretary-general Alex Neve said in a statement.\n",
      "\n",
      " 130. Bollywood actor Taapsee Pannu isnt a heavy-on-party kind of person. Usually, its [celebration] with friends or family, depending upon where I am. Also] my sister once made a really funny poem with pictures of both of us on a chart paper and gifted that to me. Going down memory lane, Taapsee recalls how birthdays used to be most special during her childhood. Follow @htshowbiz for more\n",
      "\n",
      " 131. State run Mahanagar Telephone Nigam Ltd (MTNL) has been hit by a malware attack in Delhi. The issue which is now under control as per the company, affected over 10,000 users and disrupted the broadband services for quite some time. \"\n",
      "\n",
      " 132. Vishal Rana (21) and Hari Om (26), accused in the 2015 lynching of Mohammad Ikhlaq in Bisada for allegedly slaughtering a cow, was granted bail by the Allahabad high court on Monday. Though government has no say in courts decision, it ensured justice is done, he said, and claimed that in the previous regime, officials were did not ensure fair investigation. Following the incident, 18 people were taken into custody, of which 14 had gotten bail. The case had political repercussions as BJP leaders in opposition to then-CM Akhileshs Samajwadi Party, which was seen to be favouring Muslims wooed voters in from the region on the plank of getting the accused released from jail during the UP assembly elections earlier this year.\n",
      "\n",
      " 133. China is constructing a 12-km-long high-speed train tunnel through one of the portions of its iconic Great Wall to connect Zhangjiakou city which is due to co-host 2022 winter Olympics along with Beijing. It took the Chinese engineers months to choreograph the best intersection point. The depth of the tunnel will range from four metres to 432 metres. The new technology causes little damage to the geological environment, which will help protect the Great Wall, Dai Longzhen, deputy manager of the Beijing-Zhangjiakou High-Speed Railway Line, told the Global Times. I myself once stood on the Great Wall and I could not feel the blast at all, Dai added.\n",
      "\n",
      " 134. Donald Trump personally dictated the press statement issued in the name of his eldest son Donald Jr that misleadingly downplayed the significance of a 2016 meeting with a Kremlin-linked Russian lawyer, a new report alleged on Monday night. One of the Russian visitors was the well-connected lawyer Natalia Veselnitskaya. Shunning the guidance of lawyers and overturning the view apparently reached by Kushner and his team of advisers that a full and frank accounting should be made, Trump reportedly dictated a statement on board Air Force One as he was flying back to Washington from the G20 summit in Germany. Until now, the president managed to keep some distance from the 9 June encounter, with his lawyers claiming that he knew nothing about it. But as the Washington Posts forensic deconstruction of the framing of the Trump Tower meeting shows, the president himself has the capacity to destroy even the best-laid plans, underlining the task now facing his new chief of staff.\n",
      "\n",
      " 135. 8.11am BST\n",
      "08:11\n",
      "\n",
      "That brings our coverage of the AHRCs landmark survey to a close. Updated\n",
      "at 8.16am BST\n",
      "\n",
      "\n",
      "8.00am BST\n",
      "08:00\n",
      "\n",
      "Heres a final submission from someone who used to work as a residential tutor, who contacted Guardian Australia anonymously to share their story:I was working in one of the residential colleges as a member of the staff, and was supporting a student through a case of sexual assault. Based on our experience and from the testimonies given by both sides, my colleagues at the college who were involved in supporting the student and I knew that the victims account is more likely to be true than not, but we could not do anything without proof. It was frustrating and I felt that we had truly let the victim down. All have been published with their permission. The universities often actually make it worse?Heres a video from Fair Agenda featuring speakers from End Rape on Campus, Hunting Ground Australia and student councils. In a lecture theatre of 100 students, two have been sexually assaulted. Heres the sex discrimination commissioner, Kate Jenkins, talking through the reports findings this morning. But the co-womens officer at the University of Sydney, Imogen Grant, told Guardian Australia today that assaults that occur outside of university grounds can still be reported to universities because they involve student perpetrators. And if the perpetrator is a fellow student, you can report that to the university and you can expect disciplinary action as well. People who did not join in were ostracised. I remember one occasion where a woman from another hall said she had been raped from a male from our hall. Women did that all the time, didnt they?Updated\n",
      "at 6.48am BST\n",
      "\n",
      "\n",
      "6.23am BST\n",
      "06:23\n",
      "\n",
      "As mentioned earlier today, only 9% of students who had been sexually assaulted on their campus reported the attack to their university. I felt too scared to report these incidents. I couldnt have action taken against him because everyone would find out. Said one: It was my word against his. Female students were required to kneel before each male resident and drink from his sack. Some said they dropped out of university to avoid bumping into their attacker. Said another:He delayed my education by a year and made me afraid to go to uni and at the time I truly didnt see how bad the impact he was having on me, not even when I dropped out.\n",
      "\n",
      " 136. Gujarat Congress MLAs lodged in a Karnataka resort to deter defections from their ranks ahead of next weeks Rajya Sabha polls say the south Indian food being served to them is a big sore point amid their four-star comfort. But there is bound to be a difference in cuisine, Gyasuddin Shaikh, one of the 42 legislators, told Hindustan Times on Tuesday. We prefer roti, Shaikh explained. Patel needs the support of 45 MLAs to be re-elected and the Congress is doing everything it can to keep its flock together.\n",
      "\n",
      " 137. Indian-American economist Arvind Panagariya is stepping down as vice chairperson of Niti Aayog, the governments policy think tank, and returning to academics in New Yorks Columbia University. The 64-year-old professor of economics was picked by Prime Minister Narendra Modi in January 2015 to head the National Institution for Transforming India, better known as Niti Aayog, which replaced the Planning Commission. I have requested the Prime Minister to relieve me from my responsibility as my leave in Columbia University is coming to an end on September 5 and I have decided to join back, he told reporters on Tuesday. But the think tank had its fare share of criticism. There is poor response (from the government) to labour and services sectors. Following the advice of Niti Aayog, the government is moving towards contractual employment, relaxing labour laws to benefit industry, CK Shaji Narayana, the unions president, said some time ago. Panagariya said a seven-year strategy and 15-year vision for India is 80-85% ready.\n",
      "\n",
      " 138. The latest victim of Pahlaj Nihalani-led CBFC's (Central Board of Film Certification) draconian measures is Nawazuddin Siddiqui's upcoming film Babumoshai Bandookbaaz. When asked about the number of cuts that have been ordered in Babumoshai Bandookbaaz, Nihalani told India Today Television, \"We are just doing our job. Babumoshai Bandookbaaz is slated for a release on August 25 this year. Why the racism, Bollywood?\n",
      "\n",
      " 139. Authorities in Pakistans Punjab province have extended the house arrest of Mumbai terror attack mastermind Hafiz Saeed for another two months to maintain public order. His detention had been extended for three more months in April. It said Saaed and others detention expired on July 27. According to the notification, The Counter Terrorism Department has reported that keeping in view the expected release of said activist (Saeed) and other leaders and workers of said organisations (JuD and Falah-e-Insaniat) they have planned to spread chaos in the country.\n",
      "\n",
      " 140. Qatar filed a wide-ranging legal complaint at the World Trade Organization on Monday to challenge a trade boycott by Saudi Arabia, Bahrain and United Arab Emirates, the director of Qatars WTO office Ali Alwaleed al-Thani told Reuters. The boycotting countries have previously told the WTO that they would cite national security to justify their actions against Qatar, using a controversial and almost unprecedented exemption allowed under the WTO rules. We remain hopeful that the consultations could bear fruit in resolving this, he said. Al-Thani declined to explain why Egypt was not included. Obviously all options are available. And we believe the WTO will take that into consideration.\n",
      "\n",
      " 141. New Delhi, Jul 31 (PTI) Tata Motors CEO and Managing Director Guenter Butschek took home over Rs 22.55-crore salary last fiscal, while other key officials saw their remunerations cut in a year when the company was saddled with losses. Ravi Pisharody, erstwhile Executive Director and former head of the companys commercial vehicles (CV) business unit who had quit the company last month, saw his salary drop by 17 per cent to Rs 2.3 crore in the last fiscal.\n",
      "\n",
      " 142. Union minister Ramdas Athawale has said there was nothing wrong if one didnt recite the national song Vande Mataram. Everybody should recite Vande Mataram, but if it is not recited what will go wrong he asked, while addressing the Maharashtra Gramin Patrakar Sanghs 11th anniversary at Kalyan near Thane on Monday.\n",
      "\n",
      " 143. The Ghaziabad police on Monday arrested an alleged arms supplier from Muzaffarnagar who had come to Sahibabad to allegedly deliver a cache of newly developed arms and live cartridges to an unidentified contact. A team from the Sihani Gate police station nabbed Mohammad Ilyas, the accused, from the crossing at the Karhera exit early Monday morning. Mobin had told Ilyas to deliver the arms to a contact in Ghaziabad and was to give him the identity of the contact once he reached Ghaziabad, Manish Mishra, the assistant superintendent of police, said. Sources said that illegal countrymade pistols are generally manufactured from spare parts of trucks, especially, the lower end of the steering gear, which are shaped into barrels as they are strong and can withstand the firepower.\n",
      "\n",
      " 144. The Supreme Court on Tuesday agreed to hear a plea seeking cancellation of Bihar Chief Minister Nitish Kumars membership of the state Legislative Council for allegedly concealing a pending criminal case against him. He claimed the Bihar chief minister did not disclose the criminal case that was pending against him in affidavits since 2004, except for 2012.\n",
      "\n",
      " 145. Vijay Mallya's financial fraud and eventual escape from the law enforcement has invariably become a lesson for many. The banks that have sought recovery from Kasliwal include Punjab National Bank, UCO Bank, Union Bank of India, Central Bank, Jammu Kashmir Bank, Indian Bank and IDBI Bank. Kasliwal appealed before the court to travel abroad, however, it seems the Mallya incident have influenced the decision making of the court which refused to handover the passport. S Kumar's has been a big clothing brand whose fabric was being produced in factories located in Mysuru in Karnataka and Dewas in Madhya Pradesh.\n",
      "\n",
      " 146. Days after Maharashtra Women and Child Development Minister Pankaja Munde told the state Assembly that 42 children went missin in the last three years from a remand home in Mumbai, the Bombay High Court today summoned department's secretary to appear in person. The affidavit does not mention anything about the action that the government has taken against accused persons in the Dongri Children's Home case. The division bench of justice R M Savant and Justice Sadhna Jadhav noted that \"from reading the affidavit, we gather that it has only been filed to comply with our orders. The matter was raised in the Maharashtra Assembly. Assurance is not going to help. ALSO READ | Mumbai teen kills self, could be first Indian case of Blue Whale suicide challenge\n",
      "\n",
      " 147. Union minister for transport and shipping Nitin Gadkari has demanded that the Maharashtra government provide special facilities to those detained during the Emergency under the Maintenance of Internal Security Act (MISA). Incidentally, most of the MISA detainees are RSS activists or its supporters. The group submitted a memorandum to Gadkari, briefing him about the facilities and recognition extended to detainees in states like UP, MP, Bihar and Chhattisgarh.\n",
      "\n",
      " 148. Flying of aerial vehicles like quadcopters, paragliders, and hot-air balloons in Delhi has been banned till the Independence Day celebrations on August 15 due to the terror threat, Delhi Police said on Monday. ... certain criminal/anti-social elements or terrorists... may pose a threat to the safety of the general public, dignitaries, and vital installations by the use of sub-conventional aerial platforms, a police statement said.\n",
      "\n",
      " 149. Hollywood actor Ryan Reynolds seems to know exactly what Deadpool fans want to see. In the photo, Domino is seen lounging in front of a fireplace atop of Deadpool, who has been flattened out into a rug. Ryan Reynolds (@VancityReynolds) July 31, 2017The snap is a callback to one of the first photos of Reynolds as Deadpool, the one where he was lying on a rug in front of a huge fireplace.\n",
      "\n",
      " 150. Dutch police have arrested five men suspected of stealing 500,000 (£448,000) of iPhones in a dangerous late-night heist from a moving truck akin to action scenes from Fast and Furious. Using a modified van, they drove close enough to the back of the truck to allow one of the suspects to climb onto it and break in through the doors while it was being driven down the road. Romanian police released a video, shot from a police helicopter of a similar raid from 2012, where thieves drove up behind a truck using an angle grinder to break open the doors and steal goods while other members of the gang held-back traffic in other cars. Dutch police will send the fingerprints of the suspects to colleagues around Europe to check for potential matches to previous crimes.\n"
     ]
    }
   ],
   "source": [
    "for i, article in enumerate(articles['ctext'][100:151], 100):\n",
    "    result = model(article, min_length=20)\n",
    "    summary = \"\".join(result)\n",
    "    print(\"\\n \" + str(i) + \". \" + summary)\n",
    "    bert_summarized_articles.append(summary)"
   ]
  },
  {
   "cell_type": "code",
   "execution_count": 28,
   "metadata": {
    "state": "normal"
   },
   "outputs": [
    {
     "name": "stdout",
     "output_type": "stream",
     "text": [
      "\n",
      " 151. Archaeologists have unearthed a large, centuries-old statue that is believed to have once stood guard over an ancient hospital at Cambodias famed Angkor temple complex. Cambodian archaeologists and experts from Singapores Institute of Southeast Asian Studies found the statue buried 40 centimeters under the ground during an excavation of an Angkor-era hospital built during the reign of King Jayavarman VII.\n",
      "\n",
      " 152. The Indian contingent of hearing impaired athletes, returning to the country after its best ever performance in the Deaflympics -- clinching five medals, including a gold -- refused to leave the Indira Gandhi International Airport in New Delhi on Tuesday morning (5 a.m.) after realising that not a single official from the Sports Authority of India (SAI) or the sports ministry were present to welcome them. Out of those eight disciplines, we won medals in three. ANI Digital (@ani_digital) August 1, 2017The SAI official then took the players to Jawaharlal Nehru Stadium and it has been told that they will be taken to Shastri Bhawan in the evening. What these players wanted just a small welcome at the airport and a photograph with the sports minister.\n",
      "\n",
      " 153. More than 21 lakh Indian technology professionals have applied for H-1B work visas in the last 11 years, an official report has said. According to the report since 2007 till June this year, the USCIS received 3.4 million (34 lakh) H-1B visas applications, of which people from India accounted for 21 lakh. Sometimes people post their retirement age have been given H-1B visas. The USCISs report was first reported by Breitbart news.\n",
      "\n",
      " 154. Dead body of a woman aged around 20 to 25 was found in a agricultural farm off the Palm Beach Road in Navi Mumbai on Monday afternoon. Mahendra Tandel, owner of the farm, was on a regular visit, when he found a suitcase dumped at one corner. DCP S Pathare from Navi Mumbai said, \"We have sent pictures of the deceased to all the police stations and control rooms to establish her identity.\n",
      "\n",
      " 155. The National Highways Authority of India (NHAI) is finding it tough to finalise construction of a flyover at Iffco chowk due to the presence of high tension overhead electricity wires. The flyover construction is complete except for a portion where the high tension wires are running along the Delhi-Gurgaon Expressway from Shankar Chowk to Iffco Chowk. The NHAI agreed in principal to invest the fund to execute the plan but HVPN failed to the give the permission.\n",
      "\n",
      " 156. As a part of Prime Minister Modi's Digital India initiative, the Indian Railways have partnered with Google to provide Wi-Fi broadband facility to passengers at major railway stations across the country. This Google RailTel initiative was launched in January 2016 and till date has reached 140 stations across India. Very relevant in today's time. What we have seen is that as 4G has emerged, we have seen no dip in the Wi-Fi usage. The railway station is a great point of convergence. The mark of telecommunication development of any country is how close the Fiber is to the user. In effect, you must see that the Wi-Fi that we are implementing is an attempt to bring Fiber close to the user. And that is working pretty well for us. Q: During my interactions with passengers and workers at the Nizzamudin railway station, I found out that many of them feel that during peak hours the speed slows down quite a bit. The average usage still remains 350MB per user per session which shows we have augmented the network and capacity while adding more users. Q: But what is the minimum speed - I spoke to many people and got a lot of varying replies. It is also measured by the latency of the network. If you compare this with Wi-Fi in London and San Francisco, you will find that the Wi-Fi is better in both coverage and capacityNote: The network is dynamically adjusted in such a way that priority is given to those who are logging in for the first time. I think to raise awareness in a sustainable way we need help from the government.\n",
      "\n",
      " 157. Police protection was given to all the Congress legislators in Gujarat on Monday following Election Commissions order on a party complaint that the ruling BJP was trying to bribe and coerce its MLAs to defect ahead of the Rajya Sabha election in the state. The security cover was given to nine of the 51 Congress MLAs who stayed back in Gujarat as well as the 42 that the party took to Bengaluru on Friday to shield them from the alleged poaching attempts. Raghvji Patel, known to be close to former chief minister Shankersinh Vaghela, said: I received a call from home that two policemen have arrived, though I havent asked for any security cover. Trouble began for the Congress after the political heavyweight resigned. Vaghela too visited the area on Saturday and criticised the six Congress MLAs from northern Gujarat for ditching the people at their hour of need. Congress supporters protested against the turncoats outside the BJP office in Ahmedabad on Monday.\n",
      "\n",
      " 158. Abu Dujana, a top Lashkar-e-Taiba (LeT) commander operating in Kashmir, was killed on Tuesday in an encounter with security forces in Pulwama district, police said. Dujana carried a reward of Rs 15 lakh on his head and figures among the top militants of the valley, categorised A++ by the army. According to the army, he was among 12 most wanted militants active in the valley. Hizbul Mujahideen leaders Burhan Wani and Sabzar Bhat were killed by security forces earlier.\n",
      "\n",
      " 159. Pakistans opposition leader, Imran Khan, has called for a future of real democracy in the country, following the dismissal of Nawaz Sharif as prime minister over corruption charges. In front of flag-flying party cadres dressed in the red and green colours of PTI, among towers of loudspeakers blasting music, Khan likened Pakistans rulers to mafia who safeguard personal interests at any cost. But today I salute the court for giving hope to people for a new Pakistan, he said. Sharif claims he never received the salary. There has been speculation that the court, with its verdict, simply did the militarys bidding, and that Khan was a handy tool for the generals to cut down a prime minister with whom they have feuded for decades. Fridays court decision sparked hope among demonstrators that the countrys corrupt leaders can be held accountable. This is is not a democracy but monarchy. Supporters of Sharif point out that during his tenure, the economy has grown and security has improved markedly. But it is the law enforcement agencies that have brought peace.\n",
      "\n",
      " 160. Actor Manisha Koiralas comeback film, Dear Maya, which she did after a hiatus of five years, fizzled out without much noise, but that certainly hasnt deterred her spirit. A post shared by Manisha Koirala (@m_koirala) on Jul 20, 2017 at 1:12pm PDT Manisha adds that she doesnt believe in giving too much of a thought to who her co-actors are in a film, as each one turns out to be different. Shes [Alia] just so brilliant and super-talented.\n",
      "\n",
      " 161. An Indian Army team has participated in a tank race competition in Russia along with groups from several other countries including China, the Army said on Tuesday. This year, for the first time, the team would be participating with own T-90 tanks which have been shipped to Russia, the Army said.\n",
      "\n",
      " 162. While infrastructure in Pakistan-occupied Kashmir (PoK) is getting a facelift owing to a torrent of Chinese investment, the terrorism framework in the area too is getting revamped in a bid to foment trouble in India, an India Today TV investigation on ground zero has found. Indian agencies are concerned that the Pakistan-funded terror groups are roping in youngsters for their mission. The pace at which these developmental projects are coming up is worrying for India. China's \"development\" projects\" in PoK and neighbouring Gilgit-Baltistan that involve several thousand Chinese personnel belonging to the construction corps of the People's Liberation Army (PLA) point towards Beijing's expansionist geo-strategic agenda in the region. So far, residents have not been employed in construction work, except some security personnel who have been engaged for protection of Chinese workers. With the reported stationing of a unit of PLA soldiers near the Khunjerab Pass and Chinese military officials frequenting the field command office of Gilgit, which happens to be Pakistan's military headquarters in the region, a pervasive Chinese intent of establishing a military edge in India's northern sector cannot be negated, observers say.\n",
      "\n",
      " 163. An Etihad Airways aircraft with more than 200 people on board suffered a tyre burst on landing, forcing the Mumbai airport authorities to shut operations at the main runway Monday evening. Runway 14-32 (the secondary one) was in use as runway 09-27 (the main one) was taken over for inspection as Etihad Airways flight EY 204 had a tyre deflated after arrival on the main runway, the official said.\n",
      "\n",
      " 164. These days if you just happen to wait outside the Parliament, there is a fair chance of meeting an immaculately dressed young Sikh gentleman walking around with a framed bat. However, stopped by Kalashnikov-toting soldiers in the country's most secured zone, the closest point he has been able to get to in South Block remains Vijay Chowk. These days, he and his cousin travel from Faridabad to Delhi with a hope of finding a way to meet Modi.\n",
      "\n",
      " 165. Crew on a Sri Lankan Airlines plane carrying 202 passengers have extinguished a mid-flight fire triggered by a mobile phone battery in an overhead locker, the carrier said Monday. The airline did not give the make or model of the battery and the phones involved, but said an investigation was underway into the incident on the Airbus A330-200 aircraft.\n",
      "\n",
      " 166. Even as chief minister Capt Amarinder Singh and his government in Punjab claim that their drive against drugs has been a huge success ever since the Congress came to power in March, party MLA Surjit Dhiman said on Monday that chitta (white powder, referring to drugs) is easily available in every nook and corner the as the drive against the menace remained effective for only the first 15 days of the government. A member of the legislative assembly from Amargarh segment, Dhiman is considered a loyalist of the CM and had sided with him when he was fighting a turf war within the party. Later, minister Dharamsot reacted to the statement, saying, We have controlled 90% of drugs and the remaining 10% will be wiped out soon.\n",
      "\n",
      " 167. The Delhi government has stopped grants to 28 Delhi University colleges funded by it on account of the university not forming governing bodies for the last 10 months. Dean of Colleges Devesh K Sinha said they have written a letter to the government on Monday assuring them that the governing bodies will be formed within a week or two. However, we are in the process and soon the bodies will be formed, Sinha said. Sixteen DU colleges are partially funded by the Delhi government, including Gargi College, Kamla Nehru College, Shivaji College and Delhi College of Arts & Commerce. In June, the government had asked colleges to not go ahead with faculty appointments till college governing bodies are formed and had also threatened to withhold funds to college in case of non-compliance.\n",
      "\n",
      " 168. The Congress on Monday accused the NDA government of encouraging cow vigilantism and said there was an environment of fear and terror among the people. Kharge was referring to increasing incidents of cow vigilantes lynching people on suspicion of carrying beef or while ferrying cattle. Kharge was interrupted by BJPs Nishikant Dubey, who said that the cases mentioned by him were subjudice and asked why he was discussing them.\n",
      "\n",
      " 169. Lucknow, Jul 31 (PTI) The Uttar Pradesh government will have to construct 44,000 toilets per day to make the state open defecation free (ODF) by October 2 next year, Chief Secretary Rajive Kumar today said. To make the state ODF by October 2 next year, 1.55 crore toilets are to be constructed.\n",
      "\n",
      " 170. Hoisted with much fanfare, Indias tallest Tricolour which was fluttering at a height of 360 ft near the India-Pakistan border at Attari has been out of sight for the past three months. The flag would be hoisted, even if for a day. Cost of patriotism too high The Amritsar improvement trust, which is responsible for the upkeep of the two flags, has replaced both of them time and again, bearing huge expenses. The 170-ft flag at Ranjit Avenue has torn off 13 times.\n",
      "\n",
      " 171. The Municipal Corporation of Gurugram (MCG), which earlier waived off property tax for several malls on the condition of providing free basement parking to city residents, has decided to put up free parking signboards at entry points of malls on MG Road. We have issued instructions to mall managements in this regard.?Visible display of free parking signboards will help people. Abhey Poonia, a Suncity resident, said, We appreciate the MCG for free parking arrangements in malls and offices.\n",
      "\n",
      " 172. BJP chief Amit Shah on Monday said he is happy being the party president and ruled out joining Narendra Modi-led NDA government at the Centre. M Venkaiah Naidu, who was holding information and broadcasting, urban development, housing and urban poverty alleviation portfolios, has been nominated as NDAs candidate for the post of vice president creating more vacancies. He was flanked by UP chief minister Yogi Adityanath and deputy chief ministers Keshav Prasad Maurya and Dinesh Sharma. Was I expected to stop him from doing so at the gun point? But, as far as return gift is concerned, this is not BJPs culture.\n",
      "\n",
      " 173. Donald Trump hailed a great day at the White House following the removal of communications director Anthony Scaramucci after just 10 days in a move that has only increased the sense of chaos at the heart of the Trump administration. We wish him all the best. A great day at the White House!The decision to remove Scaramucci, nicknamed the Mooch, came at Kellys request, the New York Times reported. As his first act, Kelly in turn seems to have forced out Scaramucci. He promised to root out leakers and said any he found would be fired. Scaramuccis estranged wife, Deidre Ball, gave birth to their second child in New York. After dinner, he placed a fateful call to New Yorker writer, Ryan Lizza...... The New Yorker published that conversation. Though Scaramucci became a critical fundraiser for the Trump campaign, it was not his first choice. He also called her the real deal. The Washington Post reported that Kelly was dismayed by the interview and found it abhorrent and embarrassing for the president. Trumps first national security adviser one of four generals the president has employed  resigned after it was revealed he misled Vice-President Mike Pence over his contacts with Russians during the election campaign. The most shocking firing of them all. A Republican insider and Priebus ally, he never settled into the press secretary role after an infamous debut in which he angrily insisted Trumps fantastic version of crowd sizes at the inauguration were true. Lets keep it going, tweeted Curbelo.\n",
      "\n",
      " 174. An 18-year-old man was apprehended on Sunday for allegedly carrying three live bullets in his bag while entering a Delhi metro station, a senior officer said. The officer involved in metro security said that the incident was reported around noon at the Kailash colony metro station when a CISF personnel detected bullet-like objects in a bag being screened at the X-ray machine.\n",
      "\n",
      " 175. Charges and counter charges flew in the Lok Sabha on Monday over the issue of lynchings, with the Opposition parties targeting the Modi government and the ruling side asserting that it was the responsibility of the state governments to deal with such crimes. If there has been one instance of persecution of Christians in Arunachal Pradesh after our rule, Ill resign: Kiren Rijiju6:13 pm: Mob lynching is the worst form of crime, it should be condemned universally. Stop the shadow army. Yoga Day message should be about ahimsa and not just about surya namaskar, she says. There is a long history and it is not a spur of the moment occurrence. Then it will stop in your locality, village and cities. They should recognise their mother. Satpathy wonders why nobody is bothered about indigenous breeds of cows. Whenever something like this takes place, all chief ministers must ensure perpetrator is arrested and investigation begins within 24 hours.3:05 pm: PM Modi has never mentioned Babri Masjid or Ayodhya or Article 370. He must also bring the source of his information here and validate. Roy says, Yeh sab bandar hai! ( Is this not mob lynching?? Two hours were alloted for the discussion. Every state government has taken action against each of these incidents. 12:30 pm: In the Lok Sabha discussion, Kharge says, The Prime Minister has not spoken about the killings on his Mann Ki Baat programme.12:28 pm: Meanwhile, first two questions in the Rajya Sabha are about MNREGA.12:26 pm: Kharge mentions incidents in Jharkhand, Madhya Pradesh, Rajasthan and Uttar Pradesh. Incidents of lynching and mob violence are not under control. 11:45 pm: Rajya Sabha returns from adjournment.\n",
      "\n",
      " 176. The Gorkha Janamukti Morcha has given a ten-day deadline to the Centre to intervene in the Gorkhaland statehood stir as the indefinite shutdown in the hills entered its 47th day on Monday. The 30-member Gorkhaland Movement Coordination Committee (GMCC), a body of all the hill parties of Darjeeling, is in Delhi for an all-party meeting. Normal life remained crippled during the indefinite strike to press for a separate Gorkhaland state.\n",
      "\n",
      " 177. The state government has planned to implement cycling tracks along the arterial roads in 10 leading cities of the state. It will not only reduce traffic, but will also considerably lessen environmental pollution. Most cycling tracks of the 123-km network in Pune that the civic body created under the erstwhile Congress-led governments Jawaharlal Nehru National Urban Renewal Mission are in a bad shape. The Nashik Municipal Corporation has made a provision in its development plan to build 120km of cycling tracks in the city, while the Nagpur civic body is mulling over a public bicycle sharing system.\n",
      "\n",
      " 178. They look like premium Rado watches at first glance, only they are not. The consignment also carried huge quantity of cameras, sunglasses and mobile accessories worth Rs 10 crore. DRI is trying to trace the receiver through the details given in the consignment.\n",
      "\n",
      " 179. The Chhattisgarh government will begin an ambulance service for cows, chief minister Raman Singh said, joining a number of BJP-ruled states to put a stronger focus on protection of the animal that is considered sacred by Hindus. Singh had in April said that anyone found killing cows in Chhattisgarh will be hanged, suggesting a radical shift in plans to protect the bovine.\n",
      "\n",
      " 180. Rebel Aam Aadmi Party (AAP) leader Kapil Mishra today released a sting operation and alleged that the Delhi government is involved in a CNG kit scam. Members of the Aam Aadmi Sena (AAS) took a leaking cylinder to four different compressed natural gas checking centres across the national capital and in all four centres they managed to get a pass certificate for the leaking cylinder.\n",
      "\n",
      " 181. The United States has vowed to take strong and swift action against the architects of authoritarianism in Venezuela after protesters and security forces fought deadly street battles during voting for President Nicolás Maduros controversial constitutional assembly. Maduros sham election is another step toward dictatorship. We won't accept an illegit govt. The council extended voting for one hour, claiming many who had wanted to casttheir vote earlier had been unable to do so. The first vote for peace, he said afterwards. The oppressive forces didnt allow us to even get to the meeting point, said protester Emilia López, 23. Maduro has said the assembly will help bring peace to the politically split country, but the opposition, and increasingly the international community, have warned that it will only serve for Maduro and the ruling socialist party to tighten their grip on power. The US imposed targeted sanctions against 13 current and former officials close to the government last week and has primed further measures if the assembly vote was held, which may affect Venezuelas oil industry, one of the few economic lifelines left in the country. Additional reporting by Ana Sofia Romero in Caracas\n",
      "\n",
      " 182. Akshay Kumar, whose forthcoming movie Toilet Ek Prem Katha stresses on the importance of building toilets and ending open defecation, hopes the film changes people's mindset about this \"taboo topic in Indian society\". \"Our youth is very strong minded. Maybe content is responsible then. Asked if that is a strategy, the National Award-winning actor said, \"If you are talking about issue-based stories like Toilet Ek prem Katha, I think being a successful actor by the grace of God, if my association gives the film a better mileage and if the story intrigued me, I do it. I got to know from research statistics that one child dies every five minutes in our country because of open defecation.\n",
      "\n",
      " 183. The All India Institute of Medical Sciences (AIIMS), the country's premier institute in the field of medicine, is finding it difficult to retain talent. The third one to leave is Dr Pravash Mishra from hematology department, who has joined Max Healthcare. However, the ministry is looking into the matter. The worrying part is that in some of the departments where the faculty faces the brain drain, the waiting list of patients stretches till 2019-2020.\"\"Not just the veteran but even the younger faculty is getting distraught with the functioning of the institution. If the same doctor applies to a private institution, particularly with AIIMS experience, he is likely to get three times of his current pay.\n",
      "\n",
      " 184. A 190-year-old Jain temple at Byculla is the latest addition to the growing list of religious and educational institutions and housing societies, who are harnessing solar energy for an eco-friendly future. So we decided to rely on solar energy to produce electricity. So far, about 20 religious institutions in the city have switched to solar power. Other trust members added that more panels will be installed by the year-end. The present installation is the first phase of the project. The benefits will be reflected every month in the temples electricity bills, said Ghaverchandji Jivrajji Sanghvi, trustee, adding that the trust spent Rs 26 lakh to install the system with the help of donations from devotees.\n",
      "\n",
      " 185. Majority of Muslims in India are descendants of Hindus, a BJP member claimed in the Lok Sabha on Monday, asking both the communities to respect each others sentiment. Participating in a debate on lynchings, Hukumdev Narayan Yadav slammed the opposition for targeting the central government over incidents of lynchings, saying Prime Minister Narendra Modi has repeatedly come out strongly against such acts. During his speech, he extensively quoted Deen Dayal Upadhyaya and said the BJP ideologue had stated that Muslims in India are descendants of Hindus. Yadav also alleged that Deen Dayal Upadhyaya and Ram Manohar Lohia were killed in late 1960s as both were planning to join hands.\n",
      "\n",
      " 186. A pub which holds the record for being the highest in the UK is going on for sale for £900,000. A solitary inn was noted to stand on the same spot on the Pennine Way in a 1586 guide book and the location near the village of Keld in Swaledale is popular with walkers hoping to see glimpses of the Northern Lights. Peace said the new owner of the pub would need to have stamina, eccentricity and love. You cant not love Tan Hill.\n",
      "\n",
      " 187. By Sajjad Hussain Islamabad, Jul 31 (PTI) The ruling PML-N partys interim prime minister nominee Shahid Khaqan Abbasi is facing a Rs 220 billion corruption inquiry by Pakistans National Accountability Bureau over an LNG contract, according to a media report. Abbasi is expected to be elected as the new prime minister by Pakistans Parliament tomorrow, replacing ousted premier Nawaz Sharif. The case was registered on the complaint of Shahid Sattar, an energy expert and former member of the Planning Commission and the SSGC board of directors, along with others, accusing Abbasi of misusing his authority and causing a potential USD 2 billion loss to the national exchequer in 15 years.\n",
      "\n",
      " 188. Ridhima Pandit, who shot to fame with the portrayal of a humanoid robot on TV show Bahu Hamari Rajni Kant, is sure that she will never do small roles in films. The experience is totally different from daily soaps. Everyone on the sets says that it was commendable of me to pick up live comedy so quickly.\n",
      "\n",
      " 189. Charges and counter charges flew in the Lok Sabha on Monday over the issue of lynchings, with the Opposition parties targeting the Modi government and the ruling side asserting that it was the responsibility of the state governments to deal with such crimes. If there has been one instance of persecution of Christians in Arunachal Pradesh after our rule, Ill resign: Kiren Rijiju6:13 pm: Mob lynching is the worst form of crime, it should be condemned universally. Stop the shadow army. Yoga Day message should be about ahimsa and not just about surya namaskar, she says. There is a long history and it is not a spur of the moment occurrence. Then it will stop in your locality, village and cities. They should recognise their mother. Satpathy wonders why nobody is bothered about indigenous breeds of cows. Whenever something like this takes place, all chief ministers must ensure perpetrator is arrested and investigation begins within 24 hours.3:05 pm: PM Modi has never mentioned Babri Masjid or Ayodhya or Article 370. He must also bring the source of his information here and validate. Roy says, Yeh sab bandar hai! ( Is this not mob lynching?? Two hours were alloted for the discussion. Every state government has taken action against each of these incidents. 12:30 pm: In the Lok Sabha discussion, Kharge says, The Prime Minister has not spoken about the killings on his Mann Ki Baat programme.12:28 pm: Meanwhile, first two questions in the Rajya Sabha are about MNREGA.12:26 pm: Kharge mentions incidents in Jharkhand, Madhya Pradesh, Rajasthan and Uttar Pradesh. Incidents of lynching and mob violence are not under control. 11:45 pm: Rajya Sabha returns from adjournment.\n",
      "\n",
      " 190. In his first press conference after his dramatic alliance with the BJP last week, Bihar Chief Minister Nitish Kumar today said Narendra Modi will return as India's Prime Minister in 2019 since there is nobody to take him on. \" ON DUMPING LALUDefending his decision to dump Lalu, Nitish said he \"put up with a lot\" during his two-year alliance with Lalu Prasad's RJD and claimed he had no option but to call it off. \"I didn't have a choice, I tolerated them a lot. They should have gone to the people and explained the allegations against them,\" he said.\n",
      "\n",
      " 191. The Hungarian Grand Prix could yet stand as one of the defining moments of the 2017 Formula One season. That the German is their only title contender could not have been clearer. Bottas let him through and, unable to pass Raikkonen and seven seconds up the road from his team-mate, Hamilton duly gave back the place on the final lap. Ferrari have a long history of imposing team orders and designating a No1 driver but the Mercedes executive director, Toto Wolff, agreed with Hamilton and drew a stark comparison with how his team and the Scuderia went racing. You could say: Screw it, it still won them the championship, who cares? They are in the history books. We spoke on the radio about it and I was told to avoid the kerbs but on this track you use them on every corner, so you lose speed. Their step forward to go head-to head with Mercedes this season gives them a real opportunity to end the drought. It paid off and they can consider their strategy a success but it indicated that they were willing to risk the team championship in favour of backing Vettel for the title.\n",
      "\n",
      " 192. New Delhi, Jul 31 (PTI) As many as 43 per cent of the countrys employees are in the unorganised sector and efforts are on to provide them EPF, ESIC and other benefits, the Lok Sabha was informed today. Labour Minister Bandaru Dattatreya said there are around 43 per cent of the total employees in the country are in the unorganised sector and 4.7 crore of them were in the construction sector.\n",
      "\n",
      " 193. Widespread flooding in Gujarat has killed more than 200 people and paralysed infrastructure, with tens of thousands of cotton farmers also suffering heavy damage. Army, Air Force and National Disaster Response Force (NDRF) personnel rescued 12,798 people, of which 825 were airlifted by the IAF. More than 150 factories were forced to shut down.\n",
      "\n",
      " 194. Angelina Jolie says accounts of her casting process for children to appear in her film First They Killed My Father are false and upsetting. I am upset that a pretend exercise in an improvisation, from an actual scene in the film, has been written about as if it was a real scenario. A representative from Vanity Fair issued a statement Sunday saying that author Evgenia Peretz clearly describes what happened during the casting process as a game and that the filmmakers went to extraordinary lengths to be sensitive in addressing the psychological stresses on the cast and crew that were inevitable in making a movie about the genocide carried out in Cambodia by the Khmer Rouge. Follow @htshowbiz for more\n",
      "\n",
      " 195. Srikant Guptas wallet did not permit it, but the Chhattisgarh primary school teacher bit the bullet for his wife stealing two designer sarees allegedly worth Rs 56,000 for her to flaunt in a community gala. She wore the sarees to the gala titled Sawan Sundari (Monsoon Beauty) last week, but police soon came looking for Gupta, who earns Rs 2,500 per month as a Shiksha Mitra (a system under which teachers are hired on contract). Now, Gupta, his wife, and his cousin are behind bars for the theft from a shop in Bilaspur district, about 115km north of state capital Raipur.\n",
      "\n",
      " 196. Bollywood actor Shahid Kapoor says his upcoming film Padmavati, marred by controversies, is made with a good intent. I hope when people see this film, they will realize that the heart of the film and intent of the film is very good, he said. Padmavati is being directed by Sanjay Leela Bhansali, and Shahid is happy about collaborating with him for the first time. Padmavati also stars Ranveer Singh, Deepika Padulone and Aditi Rao Hydari in key roles.\n",
      "\n",
      " 197. Akshay Kumar never fails to impress his co-stars. Sir (Akshay) is so focused and professional. The best love stories have known the greatest pain. Here's #LatthMaar for you @akshaykumar Link in bio A post shared by Bhumi Pednekar (@psbhumi) on Jul 11, 2017 at 7:41pm PDTSpeaking about their film, Toilet: Ek Prem Katha, which highlights the problem of open defecation in rural India, Bhumi says she wasnt even aware that Akshay was part of the film, when she signed it. I said yes to the film because of the script. We all need to work towards it, she says.\n",
      "\n",
      " 198. Prime Minister Narendra Modi has time and again claimed that corruption has come down since he took charge and that providing graft-free rule is on top of his priority. According to a government notification available exclusively with India Today, the vigilance department of each ministry has been asked to prepare a dossier of tainted and corrupt officials.\n",
      "\n",
      " 199. Opposition Congress said in Rajya Sabha on Monday that its MP Raj Babbar was allegedly injured in police action against villagers protesting demolition of their houses in the Ambedkar Nagar district of Uttar Pradesh. Tiwari was joined by other Congress members in raising the issue of the safety and security of Babbar, who is sitting on dharna at the protest site. Kurien asked them if the lawmaker was being prevented from attending Parliament.\n",
      "\n",
      " 200. Days after Tesla CEO Elon Musk said that artificial intelligence (AI) was the biggest risk, Facebook has shut down one of its AI systems after chatbots started speaking in their own language defying the codes provided. According to a report in Tech Times on Sunday, the social media giant had to pull the plug on the AI system that its researchers were working on because things got out of hand. In June, researchers from the Facebook AI Research Lab (FAIR) found that while they were busy trying to improve chatbots, the dialogue agents were creating their own language. Soon, the bots began to deviate from the scripted norms and started communicating in an entirely new language which they created without human input, media reports said. I think people who are naysayers and try to drum up these doomsday scenarios -- I just, I dont understand it.\n"
     ]
    }
   ],
   "source": [
    "for i, article in enumerate(articles['ctext'][151:201], 151):\n",
    "    result = model(article, min_length=20)\n",
    "    summary = \"\".join(result)\n",
    "    print(\"\\n \" + str(i) + \". \" + summary)\n",
    "    bert_summarized_articles.append(summary)"
   ]
  },
  {
   "cell_type": "markdown",
   "metadata": {
    "state": "normal"
   },
   "source": [
    "###  A new DataFrame that groups the output summarized text from our model and the original and summarized text from our dataset"
   ]
  },
  {
   "cell_type": "code",
   "execution_count": 29,
   "metadata": {
    "state": "normal"
   },
   "outputs": [
    {
     "data": {
      "text/html": [
       "<div>\n",
       "<style scoped>\n",
       "    .dataframe tbody tr th:only-of-type {\n",
       "        vertical-align: middle;\n",
       "    }\n",
       "\n",
       "    .dataframe tbody tr th {\n",
       "        vertical-align: top;\n",
       "    }\n",
       "\n",
       "    .dataframe thead th {\n",
       "        text-align: right;\n",
       "    }\n",
       "</style>\n",
       "<table border=\"1\" class=\"dataframe\">\n",
       "  <thead>\n",
       "    <tr style=\"text-align: right;\">\n",
       "      <th></th>\n",
       "      <th>ctext</th>\n",
       "      <th>summarized</th>\n",
       "      <th>text</th>\n",
       "    </tr>\n",
       "  </thead>\n",
       "  <tbody>\n",
       "    <tr>\n",
       "      <th>0</th>\n",
       "      <td>The Daman and Diu administration on Wednesday ...</td>\n",
       "      <td>The Daman and Diu administration on Wednesday ...</td>\n",
       "      <td>The Administration of Union Territory Daman an...</td>\n",
       "    </tr>\n",
       "    <tr>\n",
       "      <th>1</th>\n",
       "      <td>From her special numbers to TVappearances, Bol...</td>\n",
       "      <td>From her special numbers to TVappearances, Bol...</td>\n",
       "      <td>Malaika Arora slammed an Instagram user who tr...</td>\n",
       "    </tr>\n",
       "    <tr>\n",
       "      <th>2</th>\n",
       "      <td>The Indira Gandhi Institute of Medical Science...</td>\n",
       "      <td>The Indira Gandhi Institute of Medical Science...</td>\n",
       "      <td>The Indira Gandhi Institute of Medical Science...</td>\n",
       "    </tr>\n",
       "    <tr>\n",
       "      <th>3</th>\n",
       "      <td>Lashkar-e-Taiba's Kashmir commander Abu Dujana...</td>\n",
       "      <td>Lashkar-e-Taiba's Kashmir commander Abu Dujana...</td>\n",
       "      <td>Lashkar-e-Taiba's Kashmir commander Abu Dujana...</td>\n",
       "    </tr>\n",
       "    <tr>\n",
       "      <th>4</th>\n",
       "      <td>Hotels in Mumbai and other Indian cities are t...</td>\n",
       "      <td>Hotels in Mumbai and other Indian cities are t...</td>\n",
       "      <td>Hotels in Maharashtra will train their staff t...</td>\n",
       "    </tr>\n",
       "    <tr>\n",
       "      <th>...</th>\n",
       "      <td>...</td>\n",
       "      <td>...</td>\n",
       "      <td>...</td>\n",
       "    </tr>\n",
       "    <tr>\n",
       "      <th>196</th>\n",
       "      <td>Bollywood actor Shahid Kapoor says his upcomin...</td>\n",
       "      <td>Bollywood actor Shahid Kapoor says his upcomin...</td>\n",
       "      <td>Shahid Kapoor said he went mad on Twitter afte...</td>\n",
       "    </tr>\n",
       "    <tr>\n",
       "      <th>197</th>\n",
       "      <td>Akshay Kumar never fails to impress his co-sta...</td>\n",
       "      <td>Akshay Kumar never fails to impress his co-sta...</td>\n",
       "      <td>Bhumi Pednekar has said that Akshay Kumar is d...</td>\n",
       "    </tr>\n",
       "    <tr>\n",
       "      <th>198</th>\n",
       "      <td>Prime Minister Narendra Modi has time and agai...</td>\n",
       "      <td>Prime Minister Narendra Modi has time and agai...</td>\n",
       "      <td>The Modi government is planning to launch a cr...</td>\n",
       "    </tr>\n",
       "    <tr>\n",
       "      <th>199</th>\n",
       "      <td>Opposition Congress said in Rajya Sabha on Mon...</td>\n",
       "      <td>Opposition Congress said in Rajya Sabha on Mon...</td>\n",
       "      <td>Congress on Monday informed Rajya Sabha that R...</td>\n",
       "    </tr>\n",
       "    <tr>\n",
       "      <th>200</th>\n",
       "      <td>Days after Tesla CEO Elon Musk said that artif...</td>\n",
       "      <td>Days after Tesla CEO Elon Musk said that artif...</td>\n",
       "      <td>Facebook has shut down one of its Artificial I...</td>\n",
       "    </tr>\n",
       "  </tbody>\n",
       "</table>\n",
       "<p>201 rows × 3 columns</p>\n",
       "</div>"
      ],
      "text/plain": [
       "                                                 ctext  \\\n",
       "0    The Daman and Diu administration on Wednesday ...   \n",
       "1    From her special numbers to TVappearances, Bol...   \n",
       "2    The Indira Gandhi Institute of Medical Science...   \n",
       "3    Lashkar-e-Taiba's Kashmir commander Abu Dujana...   \n",
       "4    Hotels in Mumbai and other Indian cities are t...   \n",
       "..                                                 ...   \n",
       "196  Bollywood actor Shahid Kapoor says his upcomin...   \n",
       "197  Akshay Kumar never fails to impress his co-sta...   \n",
       "198  Prime Minister Narendra Modi has time and agai...   \n",
       "199  Opposition Congress said in Rajya Sabha on Mon...   \n",
       "200  Days after Tesla CEO Elon Musk said that artif...   \n",
       "\n",
       "                                            summarized  \\\n",
       "0    The Daman and Diu administration on Wednesday ...   \n",
       "1    From her special numbers to TVappearances, Bol...   \n",
       "2    The Indira Gandhi Institute of Medical Science...   \n",
       "3    Lashkar-e-Taiba's Kashmir commander Abu Dujana...   \n",
       "4    Hotels in Mumbai and other Indian cities are t...   \n",
       "..                                                 ...   \n",
       "196  Bollywood actor Shahid Kapoor says his upcomin...   \n",
       "197  Akshay Kumar never fails to impress his co-sta...   \n",
       "198  Prime Minister Narendra Modi has time and agai...   \n",
       "199  Opposition Congress said in Rajya Sabha on Mon...   \n",
       "200  Days after Tesla CEO Elon Musk said that artif...   \n",
       "\n",
       "                                                  text  \n",
       "0    The Administration of Union Territory Daman an...  \n",
       "1    Malaika Arora slammed an Instagram user who tr...  \n",
       "2    The Indira Gandhi Institute of Medical Science...  \n",
       "3    Lashkar-e-Taiba's Kashmir commander Abu Dujana...  \n",
       "4    Hotels in Maharashtra will train their staff t...  \n",
       "..                                                 ...  \n",
       "196  Shahid Kapoor said he went mad on Twitter afte...  \n",
       "197  Bhumi Pednekar has said that Akshay Kumar is d...  \n",
       "198  The Modi government is planning to launch a cr...  \n",
       "199  Congress on Monday informed Rajya Sabha that R...  \n",
       "200  Facebook has shut down one of its Artificial I...  \n",
       "\n",
       "[201 rows x 3 columns]"
      ]
     },
     "execution_count": 29,
     "metadata": {},
     "output_type": "execute_result"
    }
   ],
   "source": [
    "articles_subset = pd.DataFrame(articles['ctext'][:201])\n",
    "articles_subset['summarized'] = bert_summarized_articles\n",
    "articles_subset['text'] = articles['text'][:201]\n",
    "articles_subset"
   ]
  },
  {
   "cell_type": "code",
   "execution_count": 30,
   "metadata": {
    "state": "normal"
   },
   "outputs": [
    {
     "data": {
      "text/plain": [
       "'The Daman and Diu administration on Wednesday withdrew a circular that asked women staff to tie rakhis on male colleagues after the order triggered a backlash from employees and was ripped apart on social media. The union territorys administration was forced to retreat within 24 hours of issuing the circular that made it compulsory for its staff to celebrate Rakshabandhan at workplace. It has been decided to celebrate the festival of Rakshabandhan on August 7. In this connection, all offices/ departments shall remain open and celebrate the festival collectively at a suitable time wherein all the lady staff shall tie rakhis to their colleagues, the order, issued on August 1 by Gurpreet Singh, deputy secretary (personnel), had said. To ensure that no one skipped office, an attendance report was to be sent to the government the next evening. The two notifications one mandating the celebration of Rakshabandhan (left) and the other withdrawing the mandate (right) were issued by the Daman and Diu administration a day apart. The circular was withdrawn through a one-line order issued late in the evening by the UTs department of personnel and administrative reforms. The circular is ridiculous. There are sensitivities involved. How can the government dictate who I should tie rakhi to? We should maintain the professionalism of a workplace an official told Hindustan Times earlier in the day. She refused to be identified. The notice was issued on Daman and Diu administrator and former Gujarat home minister Praful Kodabhai Patels direction, sources said. Rakshabandhan, a celebration of the bond between brothers and sisters, is one of several Hindu festivities and rituals that are no longer confined of private, family affairs but have become tools to push politic al ideologies. In 2014, the year BJP stormed to power at the Centre, Rashtriya Swayamsevak Sangh (RSS) chief Mohan Bhagwat said the festival had national significance and should be celebrated widely to protect Hindu culture and live by the values enshrined in it. The RSS is the ideological parent of the ruling BJP. Last year, women ministers in the Modi government went to the border areas to celebrate the festival with soldiers. A year before, all cabinet ministers were asked to go to their constituencies for the festival.'"
      ]
     },
     "execution_count": 30,
     "metadata": {},
     "output_type": "execute_result"
    }
   ],
   "source": [
    "articles_subset['ctext'][0]"
   ]
  },
  {
   "cell_type": "code",
   "execution_count": 31,
   "metadata": {
    "state": "normal"
   },
   "outputs": [
    {
     "data": {
      "text/plain": [
       "'The Daman and Diu administration on Wednesday withdrew a circular that asked women staff to tie rakhis on male colleagues after the order triggered a backlash from employees and was ripped apart on social media. The union territorys administration was forced to retreat within 24 hours of issuing the circular that made it compulsory for its staff to celebrate Rakshabandhan at workplace. In this connection, all offices/ departments shall remain open and celebrate the festival collectively at a suitable time wherein all the lady staff shall tie rakhis to their colleagues, the order, issued on August 1 by Gurpreet Singh, deputy secretary (personnel), had said. The circular is ridiculous.'"
      ]
     },
     "execution_count": 31,
     "metadata": {},
     "output_type": "execute_result"
    }
   ],
   "source": [
    "articles_subset['summarized'][0]"
   ]
  },
  {
   "cell_type": "code",
   "execution_count": 32,
   "metadata": {
    "state": "normal"
   },
   "outputs": [
    {
     "data": {
      "text/plain": [
       "'The Administration of Union Territory Daman and Diu has revoked its order that made it compulsory for women to tie rakhis to their male colleagues on the occasion of Rakshabandhan on August 7. The administration was forced to withdraw the decision within 24 hours of issuing the circular after it received flak from employees and was slammed on social media.'"
      ]
     },
     "execution_count": 32,
     "metadata": {},
     "output_type": "execute_result"
    }
   ],
   "source": [
    "articles_subset['text'][0]"
   ]
  },
  {
   "cell_type": "code",
   "execution_count": 33,
   "metadata": {
    "state": "normal"
   },
   "outputs": [
    {
     "data": {
      "text/plain": [
       "'There is only a 5% chance that the Earth will avoid warming by at least 2C come the end of the century, according to new research that paints a sobering picture of the international effort to stem dangerous climate change. Global trends in the economy, emissions and population growth make it extremely unlikely that the planet will remain below the 2C threshold set out in the Paris climate agreement in 2015, the study states. The Paris accord, signed by 195 countries, commits to holding the average global temperature to well below 2C above pre-industrial levels and sets a more aspirational goal to limit warming to 1.5C. This latter target is barely plausible, the new research finds, with just a 1% chance that temperatures will rise by less than 1.5C. Were closer to the margin than we think, said Adrian Raftery, a University of Washington academic who led the research, published in Nature Climate Change. If we want to avoid 2C, we have very little time left. The public should be very concerned. Governments settled on the 2C threshold partly through political expediency but also because scientists have warned of severe consequences from sea level rise, drought, heatwaves and social unrest should the temperature rise beyond this.  Such risks have been underscored by a separate study, also released on Monday, that shows unabated climate change will cause around 60,000 deaths globally in 2030 and 260,000 deaths by 2100. The study, by the University of North Carolina, found that rising temperatures will exacerbate air pollutants that will particularly threaten those with existing conditions.  According to the University of Washington study, there is a 90% likelihood that temperatures will rise between 2C and 4.9C by 2100. This would put the world in the mid-range warming scenarios mapped out by the UNs Intergovernmental Panel on Climate Change. It negates the most optimistic outcome as well as the worst case, which would see temperatures climb nearly 6C beyond the pre-industrial era. Rather than look at how greenhouse gases will influence temperature, the new research analyzed the past 50 years of trends in world population, per capita gross domestic product (GDP) and carbon intensity, which is the amount of carbon dioxide emitted for each dollar of economic activity. After building a statistical model covering a range of emissions scenarios, the researchers found that carbon intensity will be a crucial factor in future warming. Technological advances are expected to cut global carbon intensity by 90% over the course of the century, with sharp declines in China and India two newly voracious consumers of energy. However, this decline still will not be steep enough to avoid breaching the 2C limit.  The worlds population is expected to grow to about 11 billion people by 2100, but the research found that this will have a relatively small impact upon temperatures as much of this growth will take place in sub-Saharan Africa, which is a minor contributor of greenhouse gas emissions. It has long been acknowledged that emissions cuts promised under the the Paris agreement would not be sufficient to avoid 2C warming. However, it is hoped that periodic reviews of commitments will result in more severe reductions. Donald Trumps pledge to remove the US, the worlds second-largest emitter, from the accord has cast a large shadow over these ambitions.  Even if the 2C target isnt met, action is very important, said Raftery. The more the temperature increases, the worse the impacts will be. We would warn against any tendency to use our results to say that we wont avoid 2C, and so its too late to do anything. On the contrary, avoiding the higher temperature increases that our model envisages is even more important, and also requires urgent action. Raftery acknowledged that a breakthrough technology could dramatically change the outlook but noted that major advances of the past 50 years, such as the computer, robotics, hybrid cars, the internet and electronic fuel injection, have improved carbon efficiency steadily at around 2% a year, rather than in huge jumps. Andrew Dessler, a climate scientist at Texas A&M University who was not involved in the study, said the researchs conclusions were reasonable but said it was difficult to assign a precise probability to future temperature rises. I agree that staying below 2C and 1.5C are unlikely and very, very unlikely, respectively, he said. But this research gives a false sense of rigor. Tomorrow someone could invent a carbon-free energy source that everyone adopts. If you look at technology adoption and action taken on the ozone layer and acid rain, its clear these things can change faster than people predict. Dessler said the falling cost of renewable energy would be a major factor in reducing emissions but further impetus would be needed through new actions such as a price on carbon.  Its like youre driving and about to collide with the car in front of you, he said. You want to hit the brakes as fast as you can. The later you wait, the more painful its going to be. John Sterman, an academic at the MIT Sloan Sustainability Initiative, said the research was an urgent call to action. MIT research has shown that emissions cuts in the Paris agreement would stave off around 1C of temperature increase by 2100 findings misrepresented by Trump when he announced the US departure from the pact. Sterman said the US must dramatically speed the deployment of renewable energy and especially energy efficiency. Fortunately, renewables, storage and other technologies are already cheaper than fossil energy in many places and costs are falling fast. More aggressive policies are urgently needed, but this study should not be taken as evidence that nothing can be done.'"
      ]
     },
     "execution_count": 33,
     "metadata": {},
     "output_type": "execute_result"
    }
   ],
   "source": [
    "articles_subset['ctext'][100]"
   ]
  },
  {
   "cell_type": "code",
   "execution_count": 34,
   "metadata": {
    "state": "normal"
   },
   "outputs": [
    {
     "data": {
      "text/plain": [
       "'There is only a 5% chance that the Earth will avoid warming by at least 2C come the end of the century, according to new research that paints a sobering picture of the international effort to stem dangerous climate change. Global trends in the economy, emissions and population growth make it extremely unlikely that the planet will remain below the 2C threshold set out in the Paris climate agreement in 2015, the study states. The public should be very concerned. It negates the most optimistic outcome as well as the worst case, which would see temperatures climb nearly 6C beyond the pre-industrial era. Even if the 2C target isnt met, action is very important, said Raftery. But this research gives a false sense of rigor. If you look at technology adoption and action taken on the ozone layer and acid rain, its clear these things can change faster than people predict. Its like youre driving and about to collide with the car in front of you, he said.'"
      ]
     },
     "execution_count": 34,
     "metadata": {},
     "output_type": "execute_result"
    }
   ],
   "source": [
    "articles_subset['summarized'][100]"
   ]
  },
  {
   "cell_type": "code",
   "execution_count": 35,
   "metadata": {
    "state": "normal"
   },
   "outputs": [
    {
     "data": {
      "text/plain": [
       "'According to a recently published US-based research, there is only a 5% chance that Earth will avoid warming by at least 2°C by 2100, the threshold set in the Paris climate agreement. The research studied global trends in the economy, emissions and population growth, and further stated that there is 1% chance that temperatures will rise by less than 1.5°C.'"
      ]
     },
     "execution_count": 35,
     "metadata": {},
     "output_type": "execute_result"
    }
   ],
   "source": [
    "articles_subset['text'][100]"
   ]
  },
  {
   "cell_type": "code",
   "execution_count": 36,
   "metadata": {
    "state": "normal"
   },
   "outputs": [],
   "source": [
    "articles_subset.to_csv('articles_with_bert_sum.csv')"
   ]
  },
  {
   "cell_type": "code",
   "execution_count": 37,
   "metadata": {
    "state": "normal"
   },
   "outputs": [],
   "source": [
    "articles_subset = pd.read_csv(\"articles_with_bert_sum.csv\")"
   ]
  },
  {
   "cell_type": "code",
   "execution_count": 38,
   "metadata": {
    "state": "normal"
   },
   "outputs": [],
   "source": [
    "articles_subset = articles_subset.drop(columns=['Unnamed: 0'])"
   ]
  },
  {
   "cell_type": "code",
   "execution_count": 39,
   "metadata": {
    "state": "normal"
   },
   "outputs": [
    {
     "data": {
      "text/html": [
       "<div>\n",
       "<style scoped>\n",
       "    .dataframe tbody tr th:only-of-type {\n",
       "        vertical-align: middle;\n",
       "    }\n",
       "\n",
       "    .dataframe tbody tr th {\n",
       "        vertical-align: top;\n",
       "    }\n",
       "\n",
       "    .dataframe thead th {\n",
       "        text-align: right;\n",
       "    }\n",
       "</style>\n",
       "<table border=\"1\" class=\"dataframe\">\n",
       "  <thead>\n",
       "    <tr style=\"text-align: right;\">\n",
       "      <th></th>\n",
       "      <th>ctext</th>\n",
       "      <th>summarized</th>\n",
       "      <th>text</th>\n",
       "    </tr>\n",
       "  </thead>\n",
       "  <tbody>\n",
       "    <tr>\n",
       "      <th>0</th>\n",
       "      <td>The Daman and Diu administration on Wednesday ...</td>\n",
       "      <td>The Daman and Diu administration on Wednesday ...</td>\n",
       "      <td>The Administration of Union Territory Daman an...</td>\n",
       "    </tr>\n",
       "    <tr>\n",
       "      <th>1</th>\n",
       "      <td>From her special numbers to TVappearances, Bol...</td>\n",
       "      <td>From her special numbers to TVappearances, Bol...</td>\n",
       "      <td>Malaika Arora slammed an Instagram user who tr...</td>\n",
       "    </tr>\n",
       "    <tr>\n",
       "      <th>2</th>\n",
       "      <td>The Indira Gandhi Institute of Medical Science...</td>\n",
       "      <td>The Indira Gandhi Institute of Medical Science...</td>\n",
       "      <td>The Indira Gandhi Institute of Medical Science...</td>\n",
       "    </tr>\n",
       "    <tr>\n",
       "      <th>3</th>\n",
       "      <td>Lashkar-e-Taiba's Kashmir commander Abu Dujana...</td>\n",
       "      <td>Lashkar-e-Taiba's Kashmir commander Abu Dujana...</td>\n",
       "      <td>Lashkar-e-Taiba's Kashmir commander Abu Dujana...</td>\n",
       "    </tr>\n",
       "    <tr>\n",
       "      <th>4</th>\n",
       "      <td>Hotels in Mumbai and other Indian cities are t...</td>\n",
       "      <td>Hotels in Mumbai and other Indian cities are t...</td>\n",
       "      <td>Hotels in Maharashtra will train their staff t...</td>\n",
       "    </tr>\n",
       "    <tr>\n",
       "      <th>...</th>\n",
       "      <td>...</td>\n",
       "      <td>...</td>\n",
       "      <td>...</td>\n",
       "    </tr>\n",
       "    <tr>\n",
       "      <th>196</th>\n",
       "      <td>Bollywood actor Shahid Kapoor says his upcomin...</td>\n",
       "      <td>Bollywood actor Shahid Kapoor says his upcomin...</td>\n",
       "      <td>Shahid Kapoor said he went mad on Twitter afte...</td>\n",
       "    </tr>\n",
       "    <tr>\n",
       "      <th>197</th>\n",
       "      <td>Akshay Kumar never fails to impress his co-sta...</td>\n",
       "      <td>Akshay Kumar never fails to impress his co-sta...</td>\n",
       "      <td>Bhumi Pednekar has said that Akshay Kumar is d...</td>\n",
       "    </tr>\n",
       "    <tr>\n",
       "      <th>198</th>\n",
       "      <td>Prime Minister Narendra Modi has time and agai...</td>\n",
       "      <td>Prime Minister Narendra Modi has time and agai...</td>\n",
       "      <td>The Modi government is planning to launch a cr...</td>\n",
       "    </tr>\n",
       "    <tr>\n",
       "      <th>199</th>\n",
       "      <td>Opposition Congress said in Rajya Sabha on Mon...</td>\n",
       "      <td>Opposition Congress said in Rajya Sabha on Mon...</td>\n",
       "      <td>Congress on Monday informed Rajya Sabha that R...</td>\n",
       "    </tr>\n",
       "    <tr>\n",
       "      <th>200</th>\n",
       "      <td>Days after Tesla CEO Elon Musk said that artif...</td>\n",
       "      <td>Days after Tesla CEO Elon Musk said that artif...</td>\n",
       "      <td>Facebook has shut down one of its Artificial I...</td>\n",
       "    </tr>\n",
       "  </tbody>\n",
       "</table>\n",
       "<p>201 rows × 3 columns</p>\n",
       "</div>"
      ],
      "text/plain": [
       "                                                 ctext  \\\n",
       "0    The Daman and Diu administration on Wednesday ...   \n",
       "1    From her special numbers to TVappearances, Bol...   \n",
       "2    The Indira Gandhi Institute of Medical Science...   \n",
       "3    Lashkar-e-Taiba's Kashmir commander Abu Dujana...   \n",
       "4    Hotels in Mumbai and other Indian cities are t...   \n",
       "..                                                 ...   \n",
       "196  Bollywood actor Shahid Kapoor says his upcomin...   \n",
       "197  Akshay Kumar never fails to impress his co-sta...   \n",
       "198  Prime Minister Narendra Modi has time and agai...   \n",
       "199  Opposition Congress said in Rajya Sabha on Mon...   \n",
       "200  Days after Tesla CEO Elon Musk said that artif...   \n",
       "\n",
       "                                            summarized  \\\n",
       "0    The Daman and Diu administration on Wednesday ...   \n",
       "1    From her special numbers to TVappearances, Bol...   \n",
       "2    The Indira Gandhi Institute of Medical Science...   \n",
       "3    Lashkar-e-Taiba's Kashmir commander Abu Dujana...   \n",
       "4    Hotels in Mumbai and other Indian cities are t...   \n",
       "..                                                 ...   \n",
       "196  Bollywood actor Shahid Kapoor says his upcomin...   \n",
       "197  Akshay Kumar never fails to impress his co-sta...   \n",
       "198  Prime Minister Narendra Modi has time and agai...   \n",
       "199  Opposition Congress said in Rajya Sabha on Mon...   \n",
       "200  Days after Tesla CEO Elon Musk said that artif...   \n",
       "\n",
       "                                                  text  \n",
       "0    The Administration of Union Territory Daman an...  \n",
       "1    Malaika Arora slammed an Instagram user who tr...  \n",
       "2    The Indira Gandhi Institute of Medical Science...  \n",
       "3    Lashkar-e-Taiba's Kashmir commander Abu Dujana...  \n",
       "4    Hotels in Maharashtra will train their staff t...  \n",
       "..                                                 ...  \n",
       "196  Shahid Kapoor said he went mad on Twitter afte...  \n",
       "197  Bhumi Pednekar has said that Akshay Kumar is d...  \n",
       "198  The Modi government is planning to launch a cr...  \n",
       "199  Congress on Monday informed Rajya Sabha that R...  \n",
       "200  Facebook has shut down one of its Artificial I...  \n",
       "\n",
       "[201 rows x 3 columns]"
      ]
     },
     "execution_count": 39,
     "metadata": {},
     "output_type": "execute_result"
    }
   ],
   "source": [
    "articles_subset"
   ]
  },
  {
   "cell_type": "markdown",
   "metadata": {
    "state": "normal"
   },
   "source": [
    "Tried evaluating with BLEU. However, BLEU is mainly used for the evaluation of abstractive summarization methods, and this is an extractive summarization method.\n",
    "\n",
    "Source: https://machinelearningmastery.com/calculate-bleu-score-for-text-python/#:~:text=BLEU%2C%20or%20the%20Bilingual%20Evaluation,of%20natural%20language%20processing%20tasks.\n",
    "\n",
    "https://www.rws.com/blog/understanding-mt-quality-bleu-scores/"
   ]
  },
  {
   "cell_type": "code",
   "execution_count": 42,
   "metadata": {
    "state": "normal"
   },
   "outputs": [
    {
     "name": "stdout",
     "output_type": "stream",
     "text": [
      "0.1934441876179681\n"
     ]
    }
   ],
   "source": [
    "\n",
    "candidate = tok_summary_clean\n",
    "reference = [tok_set_summary_clean]\n",
    "score = sentence_bleu(reference, candidate)\n",
    "print(score)"
   ]
  },
  {
   "cell_type": "code",
   "execution_count": 45,
   "metadata": {
    "state": "normal"
   },
   "outputs": [],
   "source": [
    "\n",
    "hypothesis = articles_subset['summarized']\n",
    "reference = articles_subset['text']\n",
    "rouge = Rouge()\n",
    "scores = rouge.get_scores(hypothesis, reference, avg=True)"
   ]
  },
  {
   "cell_type": "code",
   "execution_count": 46,
   "metadata": {
    "state": "normal"
   },
   "outputs": [
    {
     "data": {
      "text/plain": [
       "{'rouge-1': {'r': 0.46120795780388274,\n",
       "  'p': 0.3391248089900854,\n",
       "  'f': 0.37980868724632055},\n",
       " 'rouge-2': {'r': 0.21858757878330787,\n",
       "  'p': 0.15906850780853418,\n",
       "  'f': 0.17797635639647572},\n",
       " 'rouge-l': {'r': 0.4200224702323303,\n",
       "  'p': 0.3087853052815164,\n",
       "  'f': 0.34582496483875563}}"
      ]
     },
     "execution_count": 46,
     "metadata": {},
     "output_type": "execute_result"
    }
   ],
   "source": [
    "scores"
   ]
  },
  {
   "cell_type": "code",
   "execution_count": 48,
   "metadata": {
    "state": "normal"
   },
   "outputs": [],
   "source": [
    "rouge1_r_cumulative = 0\n",
    "rouge1_p_cumulative = 0\n",
    "rouge1_f_cumulative = 0\n",
    "\n",
    "rouge2_r_cumulative = 0\n",
    "rouge2_p_cumulative = 0\n",
    "rouge2_f_cumulative = 0\n",
    "\n",
    "rougel_r_cumulative = 0\n",
    "rougel_p_cumulative = 0\n",
    "rougel_f_cumulative = 0\n",
    "\n",
    "for i in range(len(articles_subset)):\n",
    "    hypothesis = articles_subset['summarized'][i]\n",
    "    reference = articles_subset['text'][i]\n",
    "    rouge = Rouge()\n",
    "    scores = rouge.get_scores(hypothesis, reference, avg=True)\n",
    "    rouge1_r_cumulative += scores['rouge-1']['r']\n",
    "    rouge1_p_cumulative += scores['rouge-1']['p']\n",
    "    rouge1_f_cumulative += scores['rouge-1']['f']\n",
    "    \n",
    "    rouge2_r_cumulative += scores['rouge-2']['r']\n",
    "    rouge2_p_cumulative += scores['rouge-2']['p']\n",
    "    rouge2_f_cumulative += scores['rouge-2']['f']\n",
    "    \n",
    "    rougel_r_cumulative += scores['rouge-l']['r']\n",
    "    rougel_p_cumulative += scores['rouge-l']['p']\n",
    "    rougel_f_cumulative += scores['rouge-l']['f']\n",
    "\n",
    "rouge1_r_average = rouge1_r_cumulative / len(articles_subset)\n",
    "rouge1_p_average = rouge1_p_cumulative / len(articles_subset)\n",
    "rouge1_f_average = rouge1_f_cumulative / len(articles_subset)\n",
    "\n",
    "rouge2_r_average = rouge2_r_cumulative / len(articles_subset)\n",
    "rouge2_p_average = rouge2_p_cumulative / len(articles_subset)\n",
    "rouge2_f_average = rouge2_f_cumulative / len(articles_subset)\n",
    "\n",
    "rougel_r_average = rougel_r_cumulative / len(articles_subset)\n",
    "rougel_p_average = rougel_p_cumulative / len(articles_subset)\n",
    "rougel_f_average = rougel_f_cumulative / len(articles_subset)"
   ]
  },
  {
   "cell_type": "markdown",
   "metadata": {
    "state": "normal"
   },
   "source": [
    "Average rouge scores for all article summaries. (r is recall, p is precision, f is the f1 score)\n",
    "\n",
    "rouge-1: unigram overlap\n",
    "\n",
    "rouge-2: bigram overlap\n",
    "\n",
    "rouge-l: Longest matching sequence of words between the bert (generated) summary and the reference summary using LCS"
   ]
  },
  {
   "cell_type": "code",
   "execution_count": 49,
   "metadata": {
    "state": "normal"
   },
   "outputs": [
    {
     "name": "stdout",
     "output_type": "stream",
     "text": [
      "Average rouge-1 r:  0.46120795780388274\n",
      "Average rouge-1 p:  0.3391248089900854\n",
      "Average rouge-1 f:  0.37980868724632055 \n",
      "\n",
      "Average rouge-2 r:  0.21858757878330787\n",
      "Average rouge-2 p:  0.15906850780853418\n",
      "Average rouge-2 f:  0.17797635639647572 \n",
      "\n",
      "Average rouge-l r:  0.4200224702323303\n",
      "Average rouge-l p:  0.3087853052815164\n",
      "Average rouge-l f:  0.34582496483875563\n"
     ]
    }
   ],
   "source": [
    "print(\"Average rouge-1 r: \", rouge1_r_average)\n",
    "print(\"Average rouge-1 p: \", rouge1_p_average)\n",
    "print(\"Average rouge-1 f: \", rouge1_f_average, \"\\n\")\n",
    "# rouge one is similarity of words in the target and summary\n",
    "\n",
    "print(\"Average rouge-2 r: \", rouge2_r_average)\n",
    "print(\"Average rouge-2 p: \", rouge2_p_average)\n",
    "print(\"Average rouge-2 f: \", rouge2_f_average, \"\\n\")\n",
    "# rouge two is how many pairs of the words did you get from the target\n",
    "# \"joe really loves data science\" - ex.(joe really , really loves, loves data)\n",
    "\n",
    "print(\"Average rouge-l r: \", rougel_r_average)\n",
    "print(\"Average rouge-l p: \", rougel_p_average)\n",
    "print(\"Average rouge-l f: \", rougel_f_average)\n",
    "# rouge l how many words are in a correct order from the target"
   ]
  },
  {
   "cell_type": "markdown",
   "metadata": {
    "state": "normal"
   },
   "source": [
    "Rouge evaluates the similarity of the Bert model generated summaries to the summaries that were generated by humans in the dataset. While Bert-generated summaries may be very different than the human-generated summaries, this does not necessarily mean that they are significantly worse. It is difficult to quantitatively evaluate text summarization."
   ]
  },
  {
   "cell_type": "markdown",
   "metadata": {
    "state": "normal"
   },
   "source": [
    "###  A plot that cross refrences the length of each text before and after summarization"
   ]
  },
  {
   "cell_type": "code",
   "execution_count": 52,
   "metadata": {
    "state": "normal"
   },
   "outputs": [
    {
     "data": {
      "text/plain": [
       "2307"
      ]
     },
     "execution_count": 52,
     "metadata": {},
     "output_type": "execute_result"
    }
   ],
   "source": [
    "len(articles['ctext'][0])"
   ]
  },
  {
   "cell_type": "code",
   "execution_count": 53,
   "metadata": {
    "state": "normal"
   },
   "outputs": [
    {
     "data": {
      "text/plain": [
       "692"
      ]
     },
     "execution_count": 53,
     "metadata": {},
     "output_type": "execute_result"
    }
   ],
   "source": [
    "len(articles_subset['summarized'][0])"
   ]
  },
  {
   "cell_type": "code",
   "execution_count": 54,
   "metadata": {
    "state": "normal"
   },
   "outputs": [
    {
     "data": {
      "text/plain": [
       "[0      2307\n",
       " 1      2370\n",
       " 2      2100\n",
       " 3      2388\n",
       " 4      3260\n",
       "        ... \n",
       " 196    2042\n",
       " 197    2105\n",
       " 198    1577\n",
       " 199    1613\n",
       " 200    3074\n",
       " Name: ctext, Length: 201, dtype: int64]"
      ]
     },
     "execution_count": 54,
     "metadata": {},
     "output_type": "execute_result"
    }
   ],
   "source": [
    "articles_len = articles['ctext'].apply(len)\n",
    "articles_len = [articles_len[:201]]\n",
    "articles_len"
   ]
  },
  {
   "cell_type": "code",
   "execution_count": 55,
   "metadata": {
    "state": "normal"
   },
   "outputs": [
    {
     "data": {
      "text/plain": [
       "[0      692\n",
       " 1      622\n",
       " 2      477\n",
       " 3      525\n",
       " 4      530\n",
       "       ... \n",
       " 196    452\n",
       " 197    557\n",
       " 198    359\n",
       " 199    446\n",
       " 200    851\n",
       " Name: summarized, Length: 201, dtype: int64]"
      ]
     },
     "execution_count": 55,
     "metadata": {},
     "output_type": "execute_result"
    }
   ],
   "source": [
    "summarized_len = articles_subset['summarized'].apply(len)\n",
    "summarized_len = [summarized_len]\n",
    "summarized_len"
   ]
  },
  {
   "cell_type": "markdown",
   "metadata": {
    "state": "normal"
   },
   "source": [
    "Lengths of summaries:"
   ]
  },
  {
   "cell_type": "code",
   "execution_count": 58,
   "metadata": {
    "state": "normal"
   },
   "outputs": [
    {
     "data": {
      "text/plain": [
       "[<matplotlib.lines.Line2D at 0x7ff2bd5ab640>]"
      ]
     },
     "execution_count": 58,
     "metadata": {},
     "output_type": "execute_result"
    },
    {
     "data": {
      "image/png": "[encoded data removed]",
      "text/plain": [
       "<Figure size 432x288 with 1 Axes>"
      ]
     },
     "metadata": {
      "needs_background": "light"
     },
     "output_type": "display_data"
    }
   ],
   "source": [
    "plt.plot(articles_subset['summarized'].apply(len),  marker=\"o\", label = 'summarized articles')"
   ]
  },
  {
   "cell_type": "markdown",
   "metadata": {
    "state": "normal"
   },
   "source": [
    "Lengths of full articles:"
   ]
  },
  {
   "cell_type": "code",
   "execution_count": 59,
   "metadata": {
    "state": "normal"
   },
   "outputs": [
    {
     "data": {
      "text/plain": [
       "[<matplotlib.lines.Line2D at 0x7ff2b9c5cb20>]"
      ]
     },
     "execution_count": 59,
     "metadata": {},
     "output_type": "execute_result"
    },
    {
     "data": {
      "image/png": "[encoded data removed]",
      "text/plain": [
       "<Figure size 432x288 with 1 Axes>"
      ]
     },
     "metadata": {
      "needs_background": "light"
     },
     "output_type": "display_data"
    }
   ],
   "source": [
    "plt.plot(articles['ctext'].apply(len)[:201],  marker=\"o\", label = 'raw articles text')"
   ]
  },
  {
   "cell_type": "markdown",
   "metadata": {
    "state": "normal"
   },
   "source": [
    "The plots above present a comparison between the lengths of the full articles and the lengths of their summarizes."
   ]
  },
  {
   "cell_type": "code",
   "execution_count": null,
   "metadata": {
    "state": "normal"
   },
   "outputs": [],
   "source": []
  }
 ],
 "metadata": {
  "kernelspec": {
   "display_name": "Python 3",
   "language": "python",
   "name": "python3"
  },
  "language_info": {
   "codemirror_mode": {
    "name": "ipython",
    "version": 3
   },
   "file_extension": ".py",
   "mimetype": "text/x-python",
   "name": "python",
   "nbconvert_exporter": "python",
   "pygments_lexer": "ipython3",
   "version": "3.7.3"
  },
  "varInspector": {
   "cols": {
    "lenName": 16,
    "lenType": 16,
    "lenVar": 40
   },
   "kernels_config": {
    "python": {
     "delete_cmd_postfix": "",
     "delete_cmd_prefix": "del ",
     "library": "var_list.py",
     "varRefreshCmd": "print(var_dic_list())"
    },
    "r": {
     "delete_cmd_postfix": ") ",
     "delete_cmd_prefix": "rm(",
     "library": "var_list.r",
     "varRefreshCmd": "cat(var_dic_list()) "
    }
   },
   "types_to_exclude": [
    "module",
    "function",
    "builtin_function_or_method",
    "instance",
    "_Feature"
   ],
   "window_display": false
  }
 },
 "nbformat": 4,
 "nbformat_minor": 5
}
